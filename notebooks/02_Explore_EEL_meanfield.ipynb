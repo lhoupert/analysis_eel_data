{
 "cells": [
  {
   "cell_type": "markdown",
   "metadata": {},
   "source": [
    "# Notebook for exploration of the mean EEL field\n"
   ]
  },
  {
   "cell_type": "code",
   "execution_count": 98,
   "metadata": {},
   "outputs": [],
   "source": [
    "import numpy as np\n",
    "import pandas as pd\n",
    "import matplotlib.pyplot as plt\n",
    "\n",
    "pd.set_option(\"display.precision\", 4)"
   ]
  },
  {
   "cell_type": "markdown",
   "metadata": {},
   "source": [
    "## 1. Load data into Dataframe"
   ]
  },
  {
   "cell_type": "code",
   "execution_count": 99,
   "metadata": {},
   "outputs": [
    {
     "name": "stdout",
     "output_type": "stream",
     "text": [
      "../data/raw/EELCTDandLADCP_refpos_origCTD.csv\n",
      "../data/raw/EELCTDandLADCP_refdate.csv\n",
      "../data/raw/EELCTDandLADCP_2Dfield.csv\n",
      "../data/raw/EELCTDandLADCP_refpos_gvel.csv\n",
      "../data/raw/EELCTDandLADCP_3Dfield.csv\n"
     ]
    }
   ],
   "source": [
    "pathdir = '../data/raw'\n",
    "\n",
    "# List available data files\n",
    "import glob\n",
    "listfiles= glob.glob(pathdir+'/'+'*.csv');\n",
    "print(*listfiles, sep = \"\\n\")\n"
   ]
  },
  {
   "cell_type": "markdown",
   "metadata": {},
   "source": [
    "#### Import 3D Fields"
   ]
  },
  {
   "cell_type": "code",
   "execution_count": 100,
   "metadata": {},
   "outputs": [
    {
     "name": "stdout",
     "output_type": "stream",
     "text": [
      "      CruiseID Staname    Refdist  Depth     PTMP     PSAL   Sigma0  \\\n",
      "0       d22396    13G+  1186.1527     25  12.9947  35.1611  26.5186   \n",
      "1       d22396    13G+  1186.1527     35  12.9717  35.1606  26.5229   \n",
      "2       d22396    13G+  1186.1527     45  12.7560  35.1493  26.5563   \n",
      "3       d22396    13G+  1186.1527     55  12.3461  35.1448  26.6325   \n",
      "4       d22396    13G+  1186.1527     65  11.9363  35.1403  26.7087   \n",
      "...        ...     ...        ...    ...      ...      ...      ...   \n",
      "63894    dy078  IB22S+     6.7210     65   7.8667  35.0407  27.3261   \n",
      "63895    dy078  IB22S+     6.7210     75   7.7710  35.0435  27.3424   \n",
      "63896    dy078  IB22S+     6.7210     85   7.7483  35.0504  27.3512   \n",
      "63897    dy078  IB22S+     6.7210     95   7.7317  35.0519  27.3548   \n",
      "63898    dy078  IB22S+     6.7210    105   7.7190  35.0552  27.3593   \n",
      "\n",
      "             Vrel  Vladcp    Vabs  Vladcpalong  \n",
      "0      7.1146e-02 -0.0274  0.0317      -0.1860  \n",
      "1      7.1017e-02 -0.0061  0.0316      -0.1952  \n",
      "2      7.1887e-02 -0.0021  0.0324      -0.1987  \n",
      "3      7.0745e-02  0.0071  0.0313      -0.2105  \n",
      "4      6.4738e-02  0.0279  0.0253      -0.2432  \n",
      "...           ...     ...     ...          ...  \n",
      "63894 -6.5029e-06  0.0393  0.0065      -0.0091  \n",
      "63895  2.5855e-04  0.0483  0.0067      -0.0345  \n",
      "63896 -3.9223e-05  0.0504  0.0064      -0.0517  \n",
      "63897 -1.2993e-04  0.0437  0.0063      -0.0619  \n",
      "63898  0.0000e+00  0.0506  0.0065      -0.0708  \n",
      "\n",
      "[63899 rows x 11 columns]\n"
     ]
    }
   ],
   "source": [
    "file1 = pathdir+'/'+'EELCTDandLADCP_3Dfield.csv'\n",
    "df3D = pd.read_csv(file1,sep=',', index_col=None, \n",
    "                     header=0)\n",
    "print(df3D)\n"
   ]
  },
  {
   "cell_type": "markdown",
   "metadata": {},
   "source": [
    "#### Import Metadata"
   ]
  },
  {
   "cell_type": "code",
   "execution_count": 101,
   "metadata": {},
   "outputs": [
    {
     "name": "stdout",
     "output_type": "stream",
     "text": [
      "   CruiseID  Year  Month\n",
      "0    d22396  1996     10\n",
      "1    d23097  1997      9\n",
      "2    d23398  1998      5\n",
      "3    d24299  1999      9\n",
      "4    d24500  2000      2\n",
      "5    d25301  2001     12\n",
      "6   cd17605  2005     10\n",
      "7    d31206  2006     10\n",
      "8    d32107  2007      8\n",
      "9    d34009  2009      6\n",
      "10   d35110  2010      5\n",
      "11   d36511  2011      5\n",
      "12    jc086  2013      5\n",
      "13    jr302  2014      7\n",
      "14    dy031  2015      6\n",
      "15    dy052  2016      6\n",
      "16    dy078  2017      5\n"
     ]
    }
   ],
   "source": [
    "# Date of each cruise\n",
    "file2 = pathdir+'/'+'EELCTDandLADCP_refdate.csv'\n",
    "dfdate = pd.read_csv(file2,sep=',', index_col=None, \n",
    "                     header=0)\n",
    "print(dfdate)"
   ]
  },
  {
   "cell_type": "code",
   "execution_count": 102,
   "metadata": {},
   "outputs": [
    {
     "name": "stdout",
     "output_type": "stream",
     "text": [
      "   Staname    Refdist  RefLonGV  RefLatGV  RefDepthGV\n",
      "0      1G+  1302.8994   -6.2080   56.6750       110.0\n",
      "1      2G+  1295.3205   -6.3250   56.6955        50.0\n",
      "2      3G+  1289.5191   -6.4085   56.7205        92.5\n",
      "3      4G+  1282.0609   -6.5250   56.7330        97.5\n",
      "4      5G+  1272.9178   -6.6750   56.7330        60.0\n",
      "..     ...        ...       ...       ...         ...\n",
      "63  IB18S+   103.0651  -19.7510   62.5000      1730.0\n",
      "64  IB19S+    69.8213  -19.6095   62.7920      1535.0\n",
      "65  IB20S+    40.4960  -19.7335   63.0250      1215.0\n",
      "66  IB21S+    19.4086  -19.9915   63.1745       850.0\n",
      "67  IB22S+     6.7210  -20.1410   63.2665       395.0\n",
      "\n",
      "[68 rows x 5 columns]\n"
     ]
    }
   ],
   "source": [
    "# Location of EEL stations\n",
    "file3 = pathdir+'/'+'EELCTDandLADCP_refpos_gvel.csv'\n",
    "dfloc = pd.read_csv(file3,sep=',', index_col=None, \n",
    "                     header=0)\n",
    "print(dfloc)"
   ]
  },
  {
   "cell_type": "markdown",
   "metadata": {},
   "source": [
    "<br><br>\n",
    "## 2. Create Pivot Tables"
   ]
  },
  {
   "cell_type": "code",
   "execution_count": 103,
   "metadata": {},
   "outputs": [
    {
     "data": {
      "text/plain": [
       "Staname  Depth\n",
       "13G+     15      -0.0422\n",
       "         25      -0.0056\n",
       "         35      -0.0059\n",
       "         45      -0.0054\n",
       "         55      -0.0055\n",
       "                   ...  \n",
       "T+       65      -0.0187\n",
       "         75      -0.0221\n",
       "         85      -0.0605\n",
       "         95      -0.0624\n",
       "         105     -0.0635\n",
       "Name: Vabs, Length: 6517, dtype: float64"
      ]
     },
     "execution_count": 103,
     "metadata": {},
     "output_type": "execute_result"
    }
   ],
   "source": [
    "df3D.groupby(['Staname','Depth'])[\"Vabs\"].mean()"
   ]
  },
  {
   "cell_type": "code",
   "execution_count": 104,
   "metadata": {},
   "outputs": [
    {
     "name": "stdout",
     "output_type": "stream",
     "text": [
      "Staname    13G+    14G+    15G+     8G+     9G+      A+      B+      C+  \\\n",
      "Depth                                                                     \n",
      "5           NaN     NaN     NaN     NaN     NaN -0.0604  0.0985  0.0729   \n",
      "15      -0.0422 -0.0383 -0.0582  0.0468 -0.0220 -0.0255 -0.0010  0.0246   \n",
      "25      -0.0056  0.0195  0.0156  0.0489 -0.0169 -0.0283 -0.0042  0.0409   \n",
      "35      -0.0059  0.0191  0.0125  0.0472 -0.0085 -0.0282 -0.0049  0.0399   \n",
      "45      -0.0054  0.0194  0.0111  0.0418 -0.0221 -0.0289 -0.0115  0.0441   \n",
      "...         ...     ...     ...     ...     ...     ...     ...     ...   \n",
      "2645        NaN     NaN     NaN     NaN     NaN     NaN     NaN     NaN   \n",
      "2655        NaN     NaN     NaN     NaN     NaN     NaN     NaN     NaN   \n",
      "2665        NaN     NaN     NaN     NaN     NaN     NaN     NaN     NaN   \n",
      "2675        NaN     NaN     NaN     NaN     NaN     NaN     NaN     NaN   \n",
      "2685        NaN     NaN     NaN     NaN     NaN     NaN     NaN     NaN   \n",
      "\n",
      "Staname      D+      E+  ...      L+      M+      N+      O+      P+      Q+  \\\n",
      "Depth                    ...                                                   \n",
      "5        0.0658  0.0087  ... -0.0904     NaN  0.2153  0.0249     NaN  0.1177   \n",
      "15      -0.0400 -0.0740  ... -0.0838 -0.0760  0.0117  0.0537  0.0703  0.1050   \n",
      "25      -0.0101 -0.0894  ... -0.0841 -0.0760  0.0103  0.0534  0.0693  0.1075   \n",
      "35      -0.0107 -0.0918  ... -0.0841 -0.0753  0.0094  0.0591  0.0623  0.1093   \n",
      "45       0.0050 -0.0654  ... -0.0755 -0.0798 -0.0081  0.0513  0.0608  0.1113   \n",
      "...         ...     ...  ...     ...     ...     ...     ...     ...     ...   \n",
      "2645        NaN     NaN  ...     NaN     NaN     NaN     NaN     NaN     NaN   \n",
      "2655        NaN     NaN  ...     NaN     NaN     NaN     NaN     NaN     NaN   \n",
      "2665        NaN     NaN  ...     NaN     NaN     NaN     NaN     NaN     NaN   \n",
      "2675        NaN     NaN  ...     NaN     NaN     NaN     NaN     NaN     NaN   \n",
      "2685        NaN     NaN  ...     NaN     NaN     NaN     NaN     NaN     NaN   \n",
      "\n",
      "Staname     Q1+      R+      S+      T+  \n",
      "Depth                                    \n",
      "5        0.1157  0.1197     NaN     NaN  \n",
      "15       0.0942  0.1077  0.0003 -0.0597  \n",
      "25       0.0609  0.1202  0.0531 -0.0206  \n",
      "35       0.0631  0.1203  0.0526 -0.0169  \n",
      "45       0.0807  0.1216  0.0523 -0.0175  \n",
      "...         ...     ...     ...     ...  \n",
      "2645        NaN     NaN     NaN     NaN  \n",
      "2655        NaN     NaN     NaN     NaN  \n",
      "2665        NaN     NaN     NaN     NaN  \n",
      "2675        NaN     NaN     NaN     NaN  \n",
      "2685        NaN     NaN     NaN     NaN  \n",
      "\n",
      "[269 rows x 58 columns]\n"
     ]
    }
   ],
   "source": [
    "df_MVabs = df3D.pivot_table(values=\"Vabs\", index=\"Depth\", columns=\"Staname\")\n",
    "print(df_MVabs)"
   ]
  },
  {
   "cell_type": "markdown",
   "metadata": {},
   "source": [
    "<br><br>  \n",
    "## 3. Sort the dataframe columns according to additional metadata (e.g. distance of reference along the section)\n",
    "##### To reorganise the columns of the pivot table according to the distance of the station on the EEL section, we use dfloc to get the reference distance associated with the staname 'Refdist'"
   ]
  },
  {
   "cell_type": "code",
   "execution_count": 105,
   "metadata": {},
   "outputs": [
    {
     "name": "stdout",
     "output_type": "stream",
     "text": [
      "   Staname    Refdist  RefLonGV  RefLatGV  RefDepthGV\n",
      "67  IB22S+     6.7210  -20.1410   63.2665       395.0\n",
      "66  IB21S+    19.4086  -19.9915   63.1745       850.0\n",
      "65  IB20S+    40.4960  -19.7335   63.0250      1215.0\n",
      "64  IB19S+    69.8213  -19.6095   62.7920      1535.0\n",
      "63  IB18S+   103.0651  -19.7510   62.5000      1730.0\n",
      "..     ...        ...       ...       ...         ...\n",
      "4      5G+  1272.9178   -6.6750   56.7330        60.0\n",
      "3      4G+  1282.0609   -6.5250   56.7330        97.5\n",
      "2      3G+  1289.5191   -6.4085   56.7205        92.5\n",
      "1      2G+  1295.3205   -6.3250   56.6955        50.0\n",
      "0      1G+  1302.8994   -6.2080   56.6750       110.0\n",
      "\n",
      "[68 rows x 5 columns]\n"
     ]
    }
   ],
   "source": [
    "dfs = dfloc.sort_values('Refdist', ascending=True)\n",
    "print(dfs)"
   ]
  },
  {
   "cell_type": "markdown",
   "metadata": {},
   "source": [
    "\\\n",
    "List of the station name from the dataframe containing the 3D field"
   ]
  },
  {
   "cell_type": "code",
   "execution_count": 106,
   "metadata": {},
   "outputs": [
    {
     "name": "stdout",
     "output_type": "stream",
     "text": [
      "58\n"
     ]
    }
   ],
   "source": [
    "list1 = list(df_MVabs.columns) \n",
    "print(len(list1))"
   ]
  },
  {
   "cell_type": "markdown",
   "metadata": {},
   "source": [
    "<br> List of the reference station from the metadata dataframe dfloc (sorted by distance):"
   ]
  },
  {
   "cell_type": "code",
   "execution_count": 107,
   "metadata": {},
   "outputs": [
    {
     "name": "stdout",
     "output_type": "stream",
     "text": [
      "[('IB22S+', 6.721022095564081), ('IB21S+', 19.4085773503411), ('IB20S+', 40.495970583094504), ('IB19S+', 69.8212652683242), ('IB18S+', 103.06513699024599), ('IB17+', 141.10058472554), ('IB16A+', 173.98659535060298), ('IB16+', 201.76659535060298), ('IB15+', 229.54659535060298), ('IB14+', 257.326595350603), ('IB13A+', 285.106595350603), ('IB13+', 312.886595350603), ('IB12A+', 340.66659535060296), ('IB12+', 368.44659535060305), ('IB11A+', 399.84832973158206), ('IB11+', 430.673460109097), ('IB10+', 468.663262611363), ('IB9+', 499.742154822881), ('IB8+', 518.528667699264), ('IB7+', 538.601559837495), ('IB6+', 562.949888472012), ('IB5+', 586.044619970636), ('IB4C+', 602.515916919915), ('IB4B+', 621.500630600615), ('IB4A+', 639.451050292806), ('IB4+', 656.552122245144), ('IB3A+', 677.7099024851401), ('IB3+', 701.779011653906), ('IB2A+', 727.5316762150329), ('IB2+', 755.276537301711), ('IB1A+', 781.137312284704), ('IB1+', 806.770168481099), ('A+', 828.7579703431089), ('B+', 846.952231455968), ('C+', 865.903377149661), ('D+', 879.863313261289), ('E+', 890.849674734066), ('F+', 909.356986908352), ('G+', 932.842121461985), ('H+', 954.295750175461), ('I+', 970.2888628784061), ('J+', 983.859226148175), ('K+', 997.9493492185719), ('L+', 1011.2464449563499), ('M+', 1026.8050079407199), ('N+', 1046.77417036539), ('O+', 1068.9500750927), ('P+', 1089.42707658295), ('Q1+', 1101.72574213887), ('Q+', 1108.37380704328), ('R+', 1118.82460680132), ('S+', 1133.0844192792802), ('15G+', 1149.57371459129), ('T+', 1164.6089689691498), ('14G+', 1175.58696718581), ('13G+', 1186.15265230501), ('12G+', 1196.69115049774), ('11G+', 1207.20679717937), ('10G+', 1217.5412129250399), ('9G+', 1227.72051644774), ('8G+', 1237.86934301379), ('7G+', 1248.01816957983), ('6G+', 1260.72706050488), ('5G+', 1272.9178431668), ('4G+', 1282.06093016324), ('3G+', 1289.5190615426), ('2G+', 1295.3204960805099), ('1G+', 1302.89943777813)]\n",
      "\n",
      "Length: 68\n"
     ]
    }
   ],
   "source": [
    "list2 = list(zip(list(dfs.Staname),list(dfs.Refdist)))\n",
    "print((list2))\n",
    "print(f\"\\nLength: {len(list2)}\")"
   ]
  },
  {
   "cell_type": "markdown",
   "metadata": {},
   "source": [
    "\\\n",
    "list2 has more elements than list1 because the station without enough sampling where not exported in the dataframe df3D (occupied less than 4 times)\\\n",
    "The elements of both lists can be display using the *zip()* function\n"
   ]
  },
  {
   "cell_type": "code",
   "execution_count": 108,
   "metadata": {},
   "outputs": [
    {
     "name": "stdout",
     "output_type": "stream",
     "text": [
      "[('13G+', ('IB22S+', 6.721022095564081)), ('14G+', ('IB21S+', 19.4085773503411)), ('15G+', ('IB20S+', 40.495970583094504)), ('8G+', ('IB19S+', 69.8212652683242)), ('9G+', ('IB18S+', 103.06513699024599)), ('A+', ('IB17+', 141.10058472554)), ('B+', ('IB16A+', 173.98659535060298)), ('C+', ('IB16+', 201.76659535060298)), ('D+', ('IB15+', 229.54659535060298)), ('E+', ('IB14+', 257.326595350603)), ('F+', ('IB13A+', 285.106595350603)), ('G+', ('IB13+', 312.886595350603)), ('H+', ('IB12A+', 340.66659535060296)), ('I+', ('IB12+', 368.44659535060305)), ('IB1+', ('IB11A+', 399.84832973158206)), ('IB10+', ('IB11+', 430.673460109097)), ('IB11+', ('IB10+', 468.663262611363)), ('IB11A+', ('IB9+', 499.742154822881)), ('IB12+', ('IB8+', 518.528667699264)), ('IB12A+', ('IB7+', 538.601559837495)), ('IB13+', ('IB6+', 562.949888472012)), ('IB13A+', ('IB5+', 586.044619970636)), ('IB14+', ('IB4C+', 602.515916919915)), ('IB15+', ('IB4B+', 621.500630600615)), ('IB16+', ('IB4A+', 639.451050292806)), ('IB16A+', ('IB4+', 656.552122245144)), ('IB17+', ('IB3A+', 677.7099024851401)), ('IB18S+', ('IB3+', 701.779011653906)), ('IB19S+', ('IB2A+', 727.5316762150329)), ('IB1A+', ('IB2+', 755.276537301711)), ('IB2+', ('IB1A+', 781.137312284704)), ('IB20S+', ('IB1+', 806.770168481099)), ('IB21S+', ('A+', 828.7579703431089)), ('IB22S+', ('B+', 846.952231455968)), ('IB2A+', ('C+', 865.903377149661)), ('IB3+', ('D+', 879.863313261289)), ('IB3A+', ('E+', 890.849674734066)), ('IB4+', ('F+', 909.356986908352)), ('IB4A+', ('G+', 932.842121461985)), ('IB4B+', ('H+', 954.295750175461)), ('IB4C+', ('I+', 970.2888628784061)), ('IB5+', ('J+', 983.859226148175)), ('IB6+', ('K+', 997.9493492185719)), ('IB7+', ('L+', 1011.2464449563499)), ('IB8+', ('M+', 1026.8050079407199)), ('IB9+', ('N+', 1046.77417036539)), ('J+', ('O+', 1068.9500750927)), ('K+', ('P+', 1089.42707658295)), ('L+', ('Q1+', 1101.72574213887)), ('M+', ('Q+', 1108.37380704328)), ('N+', ('R+', 1118.82460680132)), ('O+', ('S+', 1133.0844192792802)), ('P+', ('15G+', 1149.57371459129)), ('Q+', ('T+', 1164.6089689691498)), ('Q1+', ('14G+', 1175.58696718581)), ('R+', ('13G+', 1186.15265230501)), ('S+', ('12G+', 1196.69115049774)), ('T+', ('11G+', 1207.20679717937))]\n"
     ]
    }
   ],
   "source": [
    "print(list(zip(list1,list2)))\n",
    "# # If rather have a list of list rather than a list of tuples :\n",
    "# res = [[i, j] for i, j in zip(list1, list2)] \n",
    "# print(res)"
   ]
  },
  {
   "cell_type": "markdown",
   "metadata": {},
   "source": [
    "\\\n",
    "If the two lists are of uneven length, it is better to use the function *itertools.zip_longest()* which  filled-in missing values"
   ]
  },
  {
   "cell_type": "code",
   "execution_count": 109,
   "metadata": {},
   "outputs": [
    {
     "name": "stdout",
     "output_type": "stream",
     "text": [
      "[('13G+', ('IB22S+', 6.721022095564081)), ('14G+', ('IB21S+', 19.4085773503411)), ('15G+', ('IB20S+', 40.495970583094504)), ('8G+', ('IB19S+', 69.8212652683242)), ('9G+', ('IB18S+', 103.06513699024599)), ('A+', ('IB17+', 141.10058472554)), ('B+', ('IB16A+', 173.98659535060298)), ('C+', ('IB16+', 201.76659535060298)), ('D+', ('IB15+', 229.54659535060298)), ('E+', ('IB14+', 257.326595350603)), ('F+', ('IB13A+', 285.106595350603)), ('G+', ('IB13+', 312.886595350603)), ('H+', ('IB12A+', 340.66659535060296)), ('I+', ('IB12+', 368.44659535060305)), ('IB1+', ('IB11A+', 399.84832973158206)), ('IB10+', ('IB11+', 430.673460109097)), ('IB11+', ('IB10+', 468.663262611363)), ('IB11A+', ('IB9+', 499.742154822881)), ('IB12+', ('IB8+', 518.528667699264)), ('IB12A+', ('IB7+', 538.601559837495)), ('IB13+', ('IB6+', 562.949888472012)), ('IB13A+', ('IB5+', 586.044619970636)), ('IB14+', ('IB4C+', 602.515916919915)), ('IB15+', ('IB4B+', 621.500630600615)), ('IB16+', ('IB4A+', 639.451050292806)), ('IB16A+', ('IB4+', 656.552122245144)), ('IB17+', ('IB3A+', 677.7099024851401)), ('IB18S+', ('IB3+', 701.779011653906)), ('IB19S+', ('IB2A+', 727.5316762150329)), ('IB1A+', ('IB2+', 755.276537301711)), ('IB2+', ('IB1A+', 781.137312284704)), ('IB20S+', ('IB1+', 806.770168481099)), ('IB21S+', ('A+', 828.7579703431089)), ('IB22S+', ('B+', 846.952231455968)), ('IB2A+', ('C+', 865.903377149661)), ('IB3+', ('D+', 879.863313261289)), ('IB3A+', ('E+', 890.849674734066)), ('IB4+', ('F+', 909.356986908352)), ('IB4A+', ('G+', 932.842121461985)), ('IB4B+', ('H+', 954.295750175461)), ('IB4C+', ('I+', 970.2888628784061)), ('IB5+', ('J+', 983.859226148175)), ('IB6+', ('K+', 997.9493492185719)), ('IB7+', ('L+', 1011.2464449563499)), ('IB8+', ('M+', 1026.8050079407199)), ('IB9+', ('N+', 1046.77417036539)), ('J+', ('O+', 1068.9500750927)), ('K+', ('P+', 1089.42707658295)), ('L+', ('Q1+', 1101.72574213887)), ('M+', ('Q+', 1108.37380704328)), ('N+', ('R+', 1118.82460680132)), ('O+', ('S+', 1133.0844192792802)), ('P+', ('15G+', 1149.57371459129)), ('Q+', ('T+', 1164.6089689691498)), ('Q1+', ('14G+', 1175.58696718581)), ('R+', ('13G+', 1186.15265230501)), ('S+', ('12G+', 1196.69115049774)), ('T+', ('11G+', 1207.20679717937)), (None, ('10G+', 1217.5412129250399)), (None, ('9G+', 1227.72051644774)), (None, ('8G+', 1237.86934301379)), (None, ('7G+', 1248.01816957983)), (None, ('6G+', 1260.72706050488)), (None, ('5G+', 1272.9178431668)), (None, ('4G+', 1282.06093016324)), (None, ('3G+', 1289.5190615426)), (None, ('2G+', 1295.3204960805099)), (None, ('1G+', 1302.89943777813))]\n"
     ]
    }
   ],
   "source": [
    "import itertools\n",
    "\n",
    "print(list(itertools.zip_longest(list1,list2)))"
   ]
  },
  {
   "cell_type": "markdown",
   "metadata": {},
   "source": [
    "\\\n",
    "Using list comprehension and the *enumerate()* function to sort list1 elements according to list2 order:"
   ]
  },
  {
   "cell_type": "code",
   "execution_count": 110,
   "metadata": {},
   "outputs": [
    {
     "name": "stdout",
     "output_type": "stream",
     "text": [
      "Reorder list:  [[33, 'IB22S+', ('IB22S+', 6.721022095564081)], [32, 'IB21S+', ('IB21S+', 19.4085773503411)], [31, 'IB20S+', ('IB20S+', 40.495970583094504)], [28, 'IB19S+', ('IB19S+', 69.8212652683242)], [27, 'IB18S+', ('IB18S+', 103.06513699024599)], [26, 'IB17+', ('IB17+', 141.10058472554)], [25, 'IB16A+', ('IB16A+', 173.98659535060298)], [24, 'IB16+', ('IB16+', 201.76659535060298)], [23, 'IB15+', ('IB15+', 229.54659535060298)], [22, 'IB14+', ('IB14+', 257.326595350603)], [21, 'IB13A+', ('IB13A+', 285.106595350603)], [20, 'IB13+', ('IB13+', 312.886595350603)], [19, 'IB12A+', ('IB12A+', 340.66659535060296)], [18, 'IB12+', ('IB12+', 368.44659535060305)], [17, 'IB11A+', ('IB11A+', 399.84832973158206)], [16, 'IB11+', ('IB11+', 430.673460109097)], [15, 'IB10+', ('IB10+', 468.663262611363)], [45, 'IB9+', ('IB9+', 499.742154822881)], [44, 'IB8+', ('IB8+', 518.528667699264)], [43, 'IB7+', ('IB7+', 538.601559837495)], [42, 'IB6+', ('IB6+', 562.949888472012)], [41, 'IB5+', ('IB5+', 586.044619970636)], [40, 'IB4C+', ('IB4C+', 602.515916919915)], [39, 'IB4B+', ('IB4B+', 621.500630600615)], [38, 'IB4A+', ('IB4A+', 639.451050292806)], [37, 'IB4+', ('IB4+', 656.552122245144)], [36, 'IB3A+', ('IB3A+', 677.7099024851401)], [35, 'IB3+', ('IB3+', 701.779011653906)], [34, 'IB2A+', ('IB2A+', 727.5316762150329)], [30, 'IB2+', ('IB2+', 755.276537301711)], [29, 'IB1A+', ('IB1A+', 781.137312284704)], [14, 'IB1+', ('IB1+', 806.770168481099)], [5, 'A+', ('A+', 828.7579703431089)], [6, 'B+', ('B+', 846.952231455968)], [7, 'C+', ('C+', 865.903377149661)], [8, 'D+', ('D+', 879.863313261289)], [9, 'E+', ('E+', 890.849674734066)], [10, 'F+', ('F+', 909.356986908352)], [11, 'G+', ('G+', 932.842121461985)], [12, 'H+', ('H+', 954.295750175461)], [13, 'I+', ('I+', 970.2888628784061)], [46, 'J+', ('J+', 983.859226148175)], [47, 'K+', ('K+', 997.9493492185719)], [48, 'L+', ('L+', 1011.2464449563499)], [49, 'M+', ('M+', 1026.8050079407199)], [50, 'N+', ('N+', 1046.77417036539)], [51, 'O+', ('O+', 1068.9500750927)], [52, 'P+', ('P+', 1089.42707658295)], [54, 'Q1+', ('Q1+', 1101.72574213887)], [53, 'Q+', ('Q+', 1108.37380704328)], [55, 'R+', ('R+', 1118.82460680132)], [56, 'S+', ('S+', 1133.0844192792802)], [2, '15G+', ('15G+', 1149.57371459129)], [57, 'T+', ('T+', 1164.6089689691498)], [1, '14G+', ('14G+', 1175.58696718581)], [0, '13G+', ('13G+', 1186.15265230501)], [4, '9G+', ('9G+', 1227.72051644774)], [3, '8G+', ('8G+', 1237.86934301379)]]\n"
     ]
    }
   ],
   "source": [
    "list_r = [[c,values,xref] for xref in list2 for c,values in enumerate(list1,0) if values == xref[0]] \n",
    "print(f\"Reorder list:  {list_r}\") "
   ]
  },
  {
   "cell_type": "markdown",
   "metadata": {},
   "source": [
    "\\\n",
    "Get the sorting index *ista* from the reordererd list *list_r*:"
   ]
  },
  {
   "cell_type": "code",
   "execution_count": 111,
   "metadata": {},
   "outputs": [
    {
     "name": "stdout",
     "output_type": "stream",
     "text": [
      "[33, 32, 31, 28, 27, 26, 25, 24, 23, 22, 21, 20, 19, 18, 17, 16, 15, 45, 44, 43, 42, 41, 40, 39, 38, 37, 36, 35, 34, 30, 29, 14, 5, 6, 7, 8, 9, 10, 11, 12, 13, 46, 47, 48, 49, 50, 51, 52, 54, 53, 55, 56, 2, 57, 1, 0, 4, 3]\n"
     ]
    }
   ],
   "source": [
    "ista = [item[0] for item in list_r]\n",
    "print(ista)"
   ]
  },
  {
   "cell_type": "markdown",
   "metadata": {},
   "source": [
    "\\\n",
    "Get the reference distance corresponding to the sorting index *ista* from the reordererd list *list_r*:"
   ]
  },
  {
   "cell_type": "code",
   "execution_count": 112,
   "metadata": {},
   "outputs": [
    {
     "name": "stdout",
     "output_type": "stream",
     "text": [
      "[6.721022095564081, 19.4085773503411, 40.495970583094504, 69.8212652683242, 103.06513699024599, 141.10058472554, 173.98659535060298, 201.76659535060298, 229.54659535060298, 257.326595350603, 285.106595350603, 312.886595350603, 340.66659535060296, 368.44659535060305, 399.84832973158206, 430.673460109097, 468.663262611363, 499.742154822881, 518.528667699264, 538.601559837495, 562.949888472012, 586.044619970636, 602.515916919915, 621.500630600615, 639.451050292806, 656.552122245144, 677.7099024851401, 701.779011653906, 727.5316762150329, 755.276537301711, 781.137312284704, 806.770168481099, 828.7579703431089, 846.952231455968, 865.903377149661, 879.863313261289, 890.849674734066, 909.356986908352, 932.842121461985, 954.295750175461, 970.2888628784061, 983.859226148175, 997.9493492185719, 1011.2464449563499, 1026.8050079407199, 1046.77417036539, 1068.9500750927, 1089.42707658295, 1101.72574213887, 1108.37380704328, 1118.82460680132, 1133.0844192792802, 1149.57371459129, 1164.6089689691498, 1175.58696718581, 1186.15265230501, 1227.72051644774, 1237.86934301379]\n"
     ]
    }
   ],
   "source": [
    "refdist = [item[2][1] for item in list_r]\n",
    "print(refdist)"
   ]
  },
  {
   "cell_type": "markdown",
   "metadata": {},
   "source": [
    "\\\n",
    "Display sorted pivot table"
   ]
  },
  {
   "cell_type": "code",
   "execution_count": 113,
   "metadata": {},
   "outputs": [
    {
     "name": "stdout",
     "output_type": "stream",
     "text": [
      "Staname  IB22S+  IB21S+  IB20S+  IB19S+  IB18S+   IB17+  IB16A+   IB16+  \\\n",
      "Depth                                                                     \n",
      "5        0.0594  0.0067  0.0495 -0.0266     NaN     NaN -0.0436  0.0174   \n",
      "15       0.0019  0.0241  0.0602 -0.0530 -0.0670 -0.0502 -0.0732 -0.0065   \n",
      "25       0.0020  0.0245  0.0473 -0.0390 -0.0630 -0.0542 -0.0708 -0.0067   \n",
      "35       0.0033  0.0231  0.0482 -0.0402 -0.0636 -0.0539 -0.0714 -0.0068   \n",
      "45       0.0050  0.0214  0.0490 -0.0415 -0.0643 -0.0534 -0.0719 -0.0071   \n",
      "\n",
      "Staname   IB15+   IB14+  ...     Q1+      Q+      R+      S+    15G+      T+  \\\n",
      "Depth                    ...                                                   \n",
      "5           NaN     NaN  ...  0.1157  0.1177  0.1197     NaN     NaN     NaN   \n",
      "15      -0.0409 -0.0530  ...  0.0942  0.1050  0.1077  0.0003 -0.0582 -0.0597   \n",
      "25      -0.0421 -0.0525  ...  0.0609  0.1075  0.1202  0.0531  0.0156 -0.0206   \n",
      "35      -0.0433 -0.0523  ...  0.0631  0.1093  0.1203  0.0526  0.0125 -0.0169   \n",
      "45      -0.0444 -0.0521  ...  0.0807  0.1113  0.1216  0.0523  0.0111 -0.0175   \n",
      "\n",
      "Staname    14G+    13G+     9G+     8G+  \n",
      "Depth                                    \n",
      "5           NaN     NaN     NaN     NaN  \n",
      "15      -0.0383 -0.0422 -0.0220  0.0468  \n",
      "25       0.0195 -0.0056 -0.0169  0.0489  \n",
      "35       0.0191 -0.0059 -0.0085  0.0472  \n",
      "45       0.0194 -0.0054 -0.0221  0.0418  \n",
      "\n",
      "[5 rows x 58 columns]\n"
     ]
    }
   ],
   "source": [
    "sdf_MVabs = df_MVabs.iloc[:,ista]\n",
    "print(sdf_MVabs.head())\n"
   ]
  },
  {
   "cell_type": "markdown",
   "metadata": {},
   "source": [
    "\\\n",
    "## 4. Load and sort other variables the same way"
   ]
  },
  {
   "cell_type": "code",
   "execution_count": 114,
   "metadata": {},
   "outputs": [
    {
     "name": "stdout",
     "output_type": "stream",
     "text": [
      "<class 'pandas.core.frame.DataFrame'>\n",
      "RangeIndex: 63899 entries, 0 to 63898\n",
      "Data columns (total 11 columns):\n",
      " #   Column       Non-Null Count  Dtype  \n",
      "---  ------       --------------  -----  \n",
      " 0   CruiseID     63899 non-null  object \n",
      " 1   Staname      63899 non-null  object \n",
      " 2   Refdist      63899 non-null  float64\n",
      " 3   Depth        63899 non-null  int64  \n",
      " 4   PTMP         63899 non-null  float64\n",
      " 5   PSAL         63899 non-null  float64\n",
      " 6   Sigma0       63899 non-null  float64\n",
      " 7   Vrel         63899 non-null  float64\n",
      " 8   Vladcp       63899 non-null  float64\n",
      " 9   Vabs         63899 non-null  float64\n",
      " 10  Vladcpalong  63899 non-null  float64\n",
      "dtypes: float64(8), int64(1), object(2)\n",
      "memory usage: 5.4+ MB\n",
      "None\n"
     ]
    }
   ],
   "source": [
    "print(df3D.info())\n",
    "\n"
   ]
  },
  {
   "cell_type": "code",
   "execution_count": 116,
   "metadata": {},
   "outputs": [],
   "source": [
    "# Calculate standard deviation for the Absolute geostrophic velocity\n",
    "df_SDVabs = df3D.pivot_table(values=\"Vabs\", index=\"Depth\", columns=\"Staname\",aggfunc=np.std)\n",
    "sdf_SDVabs = df_SDVabs.iloc[:,ista]\n",
    "\n",
    "# Calculate Mean and standard deviation for the direct velocity measured by LADCP\n",
    "sdf_MVladcp = df3D.pivot_table(values=\"Vladcp\", index=\"Depth\", columns=\"Staname\",aggfunc=np.mean).iloc[:,ista]\n",
    "sdf_SDVladcp = df3D.pivot_table(values=\"Vladcp\", index=\"Depth\", columns=\"Staname\",aggfunc=np.std).iloc[:,ista]\n",
    "\n",
    "# Calculate Mean and standard deviation for the geostrophic velocity relative to a level of no motion\n",
    "sdf_MVrel = df3D.pivot_table(values=\"Vrel\", index=\"Depth\", columns=\"Staname\",aggfunc=np.mean).iloc[:,ista]\n",
    "sdf_SDVrel = df3D.pivot_table(values=\"Vrel\", index=\"Depth\", columns=\"Staname\",aggfunc=np.std).iloc[:,ista]\n",
    "\n",
    "# Calculate Mean and standard deviation for the potential temperature\n",
    "sdf_MPTMP = df3D.pivot_table(values=\"PTMP\", index=\"Depth\", columns=\"Staname\",aggfunc=np.mean).iloc[:,ista]\n",
    "sdf_SDPTMP = df3D.pivot_table(values=\"PTMP\", index=\"Depth\", columns=\"Staname\",aggfunc=np.std).iloc[:,ista]\n",
    "\n",
    "# Calculate Mean and standard deviation for the salinity\n",
    "sdf_MSAL = df3D.pivot_table(values=\"PSAL\", index=\"Depth\", columns=\"Staname\",aggfunc=np.mean).iloc[:,ista]\n",
    "sdf_SDSAL = df3D.pivot_table(values=\"PSAL\", index=\"Depth\", columns=\"Staname\",aggfunc=np.std).iloc[:,ista]\n",
    "\n",
    "# Calculate Mean and standard deviation for the potential density\n",
    "sdf_MSigma0 = df3D.pivot_table(values=\"Sigma0\", index=\"Depth\", columns=\"Staname\",aggfunc=np.mean).iloc[:,ista]\n",
    "sdf_SDSigma0 = df3D.pivot_table(values=\"Sigma0\", index=\"Depth\", columns=\"Staname\",aggfunc=np.std).iloc[:,ista]\n",
    "\n"
   ]
  },
  {
   "cell_type": "code",
   "execution_count": null,
   "metadata": {},
   "outputs": [],
   "source": []
  },
  {
   "cell_type": "markdown",
   "metadata": {},
   "source": [
    "\\\n",
    "### Create a list of the variable to be plotted on contourf subplots"
   ]
  },
  {
   "cell_type": "code",
   "execution_count": 152,
   "metadata": {},
   "outputs": [
    {
     "data": {
      "text/plain": [
       "{'Var': 'Abs. gvel',\n",
       " 'Type': 'Mean',\n",
       " 'Data': Staname  IB22S+  IB21S+  IB20S+  IB19S+  IB18S+   IB17+  IB16A+   IB16+  \\\n",
       " Depth                                                                     \n",
       " 5        5.9411  0.6730  4.9477 -2.6601     NaN     NaN -4.3575  1.7421   \n",
       " 15       0.1907  2.4141  6.0246 -5.2971 -6.6960 -5.0151 -7.3217 -0.6493   \n",
       " 25       0.2033  2.4488  4.7273 -3.9030 -6.3033 -5.4215 -7.0771 -0.6700   \n",
       " 35       0.3310  2.3104  4.8224 -4.0222 -6.3649 -5.3875 -7.1438 -0.6782   \n",
       " 45       0.5009  2.1399  4.8990 -4.1515 -6.4252 -5.3394 -7.1856 -0.7051   \n",
       " ...         ...     ...     ...     ...     ...     ...     ...     ...   \n",
       " 2645        NaN     NaN     NaN     NaN     NaN     NaN     NaN     NaN   \n",
       " 2655        NaN     NaN     NaN     NaN     NaN     NaN     NaN     NaN   \n",
       " 2665        NaN     NaN     NaN     NaN     NaN     NaN     NaN     NaN   \n",
       " 2675        NaN     NaN     NaN     NaN     NaN     NaN     NaN     NaN   \n",
       " 2685        NaN     NaN     NaN     NaN     NaN     NaN     NaN     NaN   \n",
       " \n",
       " Staname   IB15+   IB14+  ...      Q1+       Q+       R+      S+    15G+  \\\n",
       " Depth                    ...                                              \n",
       " 5           NaN     NaN  ...  11.5715  11.7709  11.9722     NaN     NaN   \n",
       " 15      -4.0852 -5.2999  ...   9.4164  10.5014  10.7728  0.0319 -5.8162   \n",
       " 25      -4.2121 -5.2471  ...   6.0947  10.7467  12.0246  5.3105  1.5638   \n",
       " 35      -4.3343 -5.2252  ...   6.3122  10.9327  12.0292  5.2646  1.2510   \n",
       " 45      -4.4422 -5.2054  ...   8.0705  11.1334  12.1644  5.2336  1.1072   \n",
       " ...         ...     ...  ...      ...      ...      ...     ...     ...   \n",
       " 2645        NaN     NaN  ...      NaN      NaN      NaN     NaN     NaN   \n",
       " 2655        NaN     NaN  ...      NaN      NaN      NaN     NaN     NaN   \n",
       " 2665        NaN     NaN  ...      NaN      NaN      NaN     NaN     NaN   \n",
       " 2675        NaN     NaN  ...      NaN      NaN      NaN     NaN     NaN   \n",
       " 2685        NaN     NaN  ...      NaN      NaN      NaN     NaN     NaN   \n",
       " \n",
       " Staname      T+    14G+    13G+     9G+     8G+  \n",
       " Depth                                            \n",
       " 5           NaN     NaN     NaN     NaN     NaN  \n",
       " 15      -5.9721 -3.8295 -4.2152 -2.1959  4.6825  \n",
       " 25      -2.0591  1.9504 -0.5610 -1.6885  4.8868  \n",
       " 35      -1.6866  1.9143 -0.5899 -0.8480  4.7226  \n",
       " 45      -1.7483  1.9368 -0.5384 -2.2101  4.1758  \n",
       " ...         ...     ...     ...     ...     ...  \n",
       " 2645        NaN     NaN     NaN     NaN     NaN  \n",
       " 2655        NaN     NaN     NaN     NaN     NaN  \n",
       " 2665        NaN     NaN     NaN     NaN     NaN  \n",
       " 2675        NaN     NaN     NaN     NaN     NaN  \n",
       " 2685        NaN     NaN     NaN     NaN     NaN  \n",
       " \n",
       " [269 rows x 58 columns],\n",
       " 'cf_levels': array([-20, -16, -12,  -8,  -4,   0,   4,   8,  12,  16,  20]),\n",
       " 'c_levels': [0, 0],\n",
       " 'cmap': 'coolwarm',\n",
       " 'pltitle': 'Mean Absolute Velocity',\n",
       " 'cbtitle': 'cm/s'}"
      ]
     },
     "execution_count": 152,
     "metadata": {},
     "output_type": "execute_result"
    }
   ],
   "source": [
    "vartoplot=[\n",
    "    [{'Var':'Abs. gvel', \n",
    "      'Type':'Mean', \n",
    "      'Data':sdf_MVabs*100, \n",
    "      'cf_levels':np.arange(-20, 24, 4),\n",
    "      'c_levels':[0,0],\n",
    "      'cmap':'coolwarm',\n",
    "      'pltitle':'Mean Absolute Velocity',\n",
    "      'cbtitle':'cm/s'}, \n",
    "     {'Var':'Abs. gvel', 'Type':'Std', 'Data':sdf_SDVabs}]\n",
    "    \n",
    "]\n",
    "vartoplot[0][0]"
   ]
  },
  {
   "cell_type": "markdown",
   "metadata": {},
   "source": [
    "<br><br>  \n",
    "## 5. Contourf plots"
   ]
  },
  {
   "cell_type": "markdown",
   "metadata": {},
   "source": [
    "### a. For direct current measurements, temperature, salinity and density"
   ]
  },
  {
   "cell_type": "code",
   "execution_count": 155,
   "metadata": {},
   "outputs": [
    {
     "data": {
      "image/png": "[encoded data removed]",
      "text/plain": [
       "<Figure size 576x576 with 7 Axes>"
      ]
     },
     "metadata": {
      "needs_background": "light"
     },
     "output_type": "display_data"
    }
   ],
   "source": [
    "\n",
    "# Create the figure\n",
    "fig, axs = plt.subplots(3, 2, figsize=(8, 8), constrained_layout=True)\n",
    "\n",
    "row = 0\n",
    "col = 0\n",
    "\n",
    "var = vartoplot[row][col]['Data'] \n",
    "cf_levels = vartoplot[row][col]['cf_levels'] \n",
    "c_levels = vartoplot[row][col]['c_levels'] \n",
    "\n",
    "X=refdist\n",
    "Y=var.index.values\n",
    "Z=var.values\n",
    "Xi,Yi = np.meshgrid(X, Y)\n",
    "\n",
    "ax = axs[row, col]\n",
    "\n",
    "CS = ax.contourf(Xi, -Yi, Z, cf_levels, alpha=0.7, cmap=plt.cm.coolwarm, extend='both');\n",
    "\n",
    "CS2 = ax.contour(CS, levels=c_levels, colors='k')\n",
    "\n",
    "ax.set_title('Mean Absolute Velocity')\n",
    "ax.set_xlabel('Distance from Iceland (km)')\n",
    "ax.set_ylabel('Depth (m)')\n",
    "\n",
    "# Make a colorbar for the ContourSet returned by the contourf call.\n",
    "cbar = fig.colorbar(CS, ax=ax)\n",
    "cbar.ax.set_title('cm/s')\n",
    "#cbar.ax.set_ylabel('m/s')\n",
    "# Add the contour line levels to the colorbar\n",
    "cbar.add_lines(CS2)\n",
    "\n"
   ]
  },
  {
   "cell_type": "markdown",
   "metadata": {},
   "source": [
    "### b. For and absolute geostrophic velocity, relative geostrophic velocity "
   ]
  },
  {
   "cell_type": "code",
   "execution_count": null,
   "metadata": {},
   "outputs": [],
   "source": []
  }
 ],
 "metadata": {
  "kernelspec": {
   "display_name": "Python 3",
   "language": "python",
   "name": "python3"
  },
  "language_info": {
   "codemirror_mode": {
    "name": "ipython",
    "version": 3
   },
   "file_extension": ".py",
   "mimetype": "text/x-python",
   "name": "python",
   "nbconvert_exporter": "python",
   "pygments_lexer": "ipython3",
   "version": "3.8.2"
  }
 },
 "nbformat": 4,
 "nbformat_minor": 4
}
