{
 "cells": [
  {
   "cell_type": "code",
   "execution_count": 12,
   "metadata": {},
   "outputs": [],
   "source": [
    "import pickle\n",
    "\n",
    "import numpy as np\n",
    "import pandas as pd\n",
    "import matplotlib.pyplot as plt\n",
    "import seaborn as sns\n",
    "\n",
    "pathdata = \"../data/interim/\"\n",
    "filename = pathdata + \"Zlvl_Vabs\"\n",
    "with open(filename, 'rb') as f:\n",
    "    sVabsbyz= pickle.load(f)"
   ]
  },
  {
   "cell_type": "code",
   "execution_count": 13,
   "metadata": {},
   "outputs": [],
   "source": [
    "Zdata = [value for dico in sVabsbyz for key,value in dico.items() if key=='Depth']"
   ]
  },
  {
   "cell_type": "code",
   "execution_count": 14,
   "metadata": {},
   "outputs": [
    {
     "name": "stdout",
     "output_type": "stream",
     "text": [
      "dict_keys(['Depth', 'Data']) for Depth:['105m', '505m', '805m', '2505m', 'Mean']\n",
      "\n",
      "Depth 505mm\n",
      "\n",
      "Data:\n",
      "      IB21S  IB20S  IB19S  IB18S   IB17  IB16A   IB16   IB15   IB14  IB13A  \\\n",
      "Year                                                                         \n",
      "1996    NaN    NaN    NaN    NaN    NaN    NaN    NaN    NaN    NaN    NaN   \n",
      "1997    NaN    NaN    NaN    NaN    NaN    NaN    NaN    NaN    NaN    NaN   \n",
      "1998    NaN    NaN    NaN    NaN    NaN  0.034 -0.016 -0.064 -0.110  0.037   \n",
      "1999    NaN    NaN    NaN    NaN    NaN    NaN    NaN    NaN    NaN    NaN   \n",
      "2000    NaN    NaN    NaN    NaN    NaN    NaN    NaN    NaN    NaN    NaN   \n",
      "2001    NaN    NaN    NaN    NaN    NaN    NaN    NaN    NaN    NaN    NaN   \n",
      "2005    NaN  0.006 -0.208 -0.116    NaN    NaN    NaN    NaN    NaN    NaN   \n",
      "2006  0.044  0.108 -0.105  0.075 -0.149 -0.033  0.065  0.039 -0.036  0.014   \n",
      "2007    NaN    NaN    NaN    NaN    NaN    NaN    NaN    NaN    NaN    NaN   \n",
      "2009    NaN    NaN    NaN    NaN    NaN    NaN -0.087 -0.012  0.113  0.105   \n",
      "2010  0.017 -0.053 -0.083  0.054 -0.163 -0.040 -0.211 -0.098  0.020  0.118   \n",
      "2011  0.106 -0.129 -0.042 -0.144  0.044 -0.155  0.105 -0.033 -0.015 -0.014   \n",
      "2013  0.074 -0.061 -0.116 -0.008 -0.093 -0.039 -0.158 -0.288  0.093  0.089   \n",
      "2014  0.021 -0.062 -0.099 -0.076  0.038 -0.087 -0.001 -0.069  0.020  0.145   \n",
      "2015 -0.085 -0.010  0.038 -0.137 -0.027 -0.037  0.028  0.006  0.083  0.007   \n",
      "2016 -0.014  0.005  0.052 -0.166 -0.084 -0.003 -0.004 -0.023 -0.063  0.048   \n",
      "2017 -0.075 -0.108 -0.108 -0.068 -0.087 -0.053 -0.028 -0.059 -0.057  0.082   \n",
      "\n",
      "      ...      G      H      I      J      K      L      M      N      O  \\\n",
      "Year  ...                                                                  \n",
      "1996  ...  0.134  0.057 -0.108    NaN -0.017 -0.113 -0.097  0.114  0.003   \n",
      "1997  ...  0.198  0.130  0.065    NaN    NaN    NaN    NaN -0.050  0.021   \n",
      "1998  ...  0.037 -0.165 -0.115    NaN    NaN    NaN    NaN -0.063 -0.075   \n",
      "1999  ...  0.033 -0.072 -0.136 -0.043  0.105  0.077 -0.225 -0.074  0.020   \n",
      "2000  ...    NaN  0.149  0.160 -0.014  0.011 -0.029 -0.071 -0.229  0.028   \n",
      "2001  ...    NaN    NaN    NaN    NaN    NaN    NaN    NaN    NaN    NaN   \n",
      "2005  ...  0.079 -0.011  0.092  0.042  0.093  0.084  0.145 -0.048 -0.015   \n",
      "2006  ...  0.101  0.155 -0.052  0.067  0.125 -0.051  0.047  0.076 -0.011   \n",
      "2007  ...    NaN    NaN    NaN    NaN    NaN    NaN    NaN    NaN    NaN   \n",
      "2009  ...  0.366  0.108  0.076  0.055 -0.088 -0.144 -0.128 -0.057 -0.070   \n",
      "2010  ...  0.063  0.092  0.157  0.067 -0.405 -0.328 -0.292  0.134  0.138   \n",
      "2011  ...    NaN    NaN  0.233  0.077 -0.281 -0.238 -0.161  0.268  0.161   \n",
      "2013  ... -0.071  0.127  0.457  0.118 -0.262 -0.071 -0.117 -0.165  0.150   \n",
      "2014  ... -0.113  0.113  0.360  0.043 -0.100 -0.045  0.138  0.181 -0.025   \n",
      "2015  ... -0.101  0.008 -0.261 -0.359 -0.114  0.233  0.233 -0.049 -0.058   \n",
      "2016  ...  0.217  0.043  0.117  0.083 -0.040 -0.104 -0.127  0.108 -0.003   \n",
      "2017  ...  0.288  0.100  0.266 -0.020 -0.103 -0.134 -0.033  0.046  0.035   \n",
      "\n",
      "          P  \n",
      "Year         \n",
      "1996    NaN  \n",
      "1997    NaN  \n",
      "1998    NaN  \n",
      "1999  0.078  \n",
      "2000  0.101  \n",
      "2001    NaN  \n",
      "2005    NaN  \n",
      "2006    NaN  \n",
      "2007    NaN  \n",
      "2009    NaN  \n",
      "2010    NaN  \n",
      "2011    NaN  \n",
      "2013  0.199  \n",
      "2014 -0.069  \n",
      "2015  0.021  \n",
      "2016 -0.106  \n",
      "2017 -0.009  \n",
      "\n",
      "[17 rows x 39 columns]\n"
     ]
    }
   ],
   "source": [
    "print(f\"{sVabsbyz[1].keys()} for Depth:{Zdata}\")\n",
    "\n",
    "print(f\"\\nDepth {sVabsbyz[1]['Depth']}m\")\n",
    "print(f\"\\nData:\\n{sVabsbyz[1]['Data']}\")\n"
   ]
  },
  {
   "cell_type": "markdown",
   "metadata": {},
   "source": [
    "## TODO1:  MAKE box plot of velocity as function of station (look seaborn functions)"
   ]
  },
  {
   "cell_type": "markdown",
   "metadata": {},
   "source": [
    "#### Firstly pivot table need to be melted to facilitate use with seaborn"
   ]
  },
  {
   "cell_type": "code",
   "execution_count": 15,
   "metadata": {},
   "outputs": [],
   "source": [
    "# Select specific lvl\n",
    "ilvl = 0\n",
    "\n",
    "zlvl = sVabsbyz[ilvl]['Depth']\n",
    "dftemp = sVabsbyz[ilvl]['Data']\n"
   ]
  },
  {
   "cell_type": "markdown",
   "metadata": {},
   "source": [
    "Reset the year index to bring it back as a dataframe variable:"
   ]
  },
  {
   "cell_type": "code",
   "execution_count": 16,
   "metadata": {},
   "outputs": [],
   "source": [
    "dftemp= dftemp.reset_index()"
   ]
  },
  {
   "cell_type": "markdown",
   "metadata": {},
   "source": [
    "\\\n",
    "Load reference dataframe with cruise ID "
   ]
  },
  {
   "cell_type": "code",
   "execution_count": 17,
   "metadata": {},
   "outputs": [
    {
     "name": "stdout",
     "output_type": "stream",
     "text": [
      "   CruiseID  Year  Month\n",
      "0    d22396  1996     10\n",
      "1    d23097  1997      9\n",
      "2    d23398  1998      5\n",
      "3    d24299  1999      9\n",
      "4    d24500  2000      2\n",
      "5    d25301  2001     12\n",
      "6   cd17605  2005     10\n",
      "7    d31206  2006     10\n",
      "8    d32107  2007      8\n",
      "9    d34009  2009      6\n",
      "10   d35110  2010      5\n",
      "11   d36511  2011      5\n",
      "12    jc086  2013      5\n",
      "13    jr302  2014      7\n",
      "14    dy031  2015      6\n",
      "15    dy052  2016      6\n",
      "16    dy078  2017      5\n"
     ]
    }
   ],
   "source": [
    "pathdir = '../data/raw/csv_ctdgrid/'\n",
    "file3 = pathdir+'/'+'EELCTDandLADCP_refdate.csv'\n",
    "dfdate = pd.read_csv(file3,sep=',', index_col=None, \n",
    "                     header=0)\n",
    "print(dfdate)"
   ]
  },
  {
   "cell_type": "markdown",
   "metadata": {},
   "source": [
    "\\\n",
    "Merge df dataframe with metadata to get the CruiseID associated with the year:"
   ]
  },
  {
   "cell_type": "code",
   "execution_count": 18,
   "metadata": {},
   "outputs": [
    {
     "data": {
      "text/html": [
       "<div>\n",
       "<style scoped>\n",
       "    .dataframe tbody tr th:only-of-type {\n",
       "        vertical-align: middle;\n",
       "    }\n",
       "\n",
       "    .dataframe tbody tr th {\n",
       "        vertical-align: top;\n",
       "    }\n",
       "\n",
       "    .dataframe thead th {\n",
       "        text-align: right;\n",
       "    }\n",
       "</style>\n",
       "<table border=\"1\" class=\"dataframe\">\n",
       "  <thead>\n",
       "    <tr style=\"text-align: right;\">\n",
       "      <th></th>\n",
       "      <th>CruiseID</th>\n",
       "      <th>Year</th>\n",
       "      <th>IB22S</th>\n",
       "      <th>IB21S</th>\n",
       "      <th>IB20S</th>\n",
       "      <th>IB19S</th>\n",
       "      <th>IB18S</th>\n",
       "      <th>IB17</th>\n",
       "      <th>IB16A</th>\n",
       "      <th>IB16</th>\n",
       "      <th>...</th>\n",
       "      <th>P</th>\n",
       "      <th>Q1</th>\n",
       "      <th>Q</th>\n",
       "      <th>R</th>\n",
       "      <th>S</th>\n",
       "      <th>15G</th>\n",
       "      <th>T</th>\n",
       "      <th>14G</th>\n",
       "      <th>9G</th>\n",
       "      <th>8G</th>\n",
       "    </tr>\n",
       "  </thead>\n",
       "  <tbody>\n",
       "    <tr>\n",
       "      <th>0</th>\n",
       "      <td>d22396</td>\n",
       "      <td>1996</td>\n",
       "      <td>NaN</td>\n",
       "      <td>NaN</td>\n",
       "      <td>NaN</td>\n",
       "      <td>NaN</td>\n",
       "      <td>NaN</td>\n",
       "      <td>NaN</td>\n",
       "      <td>NaN</td>\n",
       "      <td>NaN</td>\n",
       "      <td>...</td>\n",
       "      <td>0.071</td>\n",
       "      <td>0.155</td>\n",
       "      <td>0.218</td>\n",
       "      <td>NaN</td>\n",
       "      <td>NaN</td>\n",
       "      <td>NaN</td>\n",
       "      <td>NaN</td>\n",
       "      <td>NaN</td>\n",
       "      <td>NaN</td>\n",
       "      <td>NaN</td>\n",
       "    </tr>\n",
       "    <tr>\n",
       "      <th>1</th>\n",
       "      <td>d23097</td>\n",
       "      <td>1997</td>\n",
       "      <td>NaN</td>\n",
       "      <td>NaN</td>\n",
       "      <td>NaN</td>\n",
       "      <td>NaN</td>\n",
       "      <td>NaN</td>\n",
       "      <td>NaN</td>\n",
       "      <td>NaN</td>\n",
       "      <td>NaN</td>\n",
       "      <td>...</td>\n",
       "      <td>0.001</td>\n",
       "      <td>0.006</td>\n",
       "      <td>0.048</td>\n",
       "      <td>NaN</td>\n",
       "      <td>NaN</td>\n",
       "      <td>NaN</td>\n",
       "      <td>NaN</td>\n",
       "      <td>NaN</td>\n",
       "      <td>NaN</td>\n",
       "      <td>NaN</td>\n",
       "    </tr>\n",
       "    <tr>\n",
       "      <th>2</th>\n",
       "      <td>d23398</td>\n",
       "      <td>1998</td>\n",
       "      <td>NaN</td>\n",
       "      <td>NaN</td>\n",
       "      <td>NaN</td>\n",
       "      <td>NaN</td>\n",
       "      <td>NaN</td>\n",
       "      <td>NaN</td>\n",
       "      <td>0.041</td>\n",
       "      <td>-0.012</td>\n",
       "      <td>...</td>\n",
       "      <td>0.059</td>\n",
       "      <td>0.237</td>\n",
       "      <td>0.296</td>\n",
       "      <td>NaN</td>\n",
       "      <td>NaN</td>\n",
       "      <td>NaN</td>\n",
       "      <td>NaN</td>\n",
       "      <td>NaN</td>\n",
       "      <td>NaN</td>\n",
       "      <td>NaN</td>\n",
       "    </tr>\n",
       "    <tr>\n",
       "      <th>3</th>\n",
       "      <td>d24299</td>\n",
       "      <td>1999</td>\n",
       "      <td>NaN</td>\n",
       "      <td>NaN</td>\n",
       "      <td>NaN</td>\n",
       "      <td>NaN</td>\n",
       "      <td>NaN</td>\n",
       "      <td>NaN</td>\n",
       "      <td>NaN</td>\n",
       "      <td>NaN</td>\n",
       "      <td>...</td>\n",
       "      <td>0.133</td>\n",
       "      <td>0.138</td>\n",
       "      <td>0.147</td>\n",
       "      <td>NaN</td>\n",
       "      <td>NaN</td>\n",
       "      <td>NaN</td>\n",
       "      <td>NaN</td>\n",
       "      <td>NaN</td>\n",
       "      <td>NaN</td>\n",
       "      <td>NaN</td>\n",
       "    </tr>\n",
       "    <tr>\n",
       "      <th>4</th>\n",
       "      <td>d24500</td>\n",
       "      <td>2000</td>\n",
       "      <td>NaN</td>\n",
       "      <td>NaN</td>\n",
       "      <td>NaN</td>\n",
       "      <td>NaN</td>\n",
       "      <td>NaN</td>\n",
       "      <td>NaN</td>\n",
       "      <td>NaN</td>\n",
       "      <td>NaN</td>\n",
       "      <td>...</td>\n",
       "      <td>0.110</td>\n",
       "      <td>0.173</td>\n",
       "      <td>0.035</td>\n",
       "      <td>NaN</td>\n",
       "      <td>NaN</td>\n",
       "      <td>NaN</td>\n",
       "      <td>NaN</td>\n",
       "      <td>NaN</td>\n",
       "      <td>NaN</td>\n",
       "      <td>NaN</td>\n",
       "    </tr>\n",
       "  </tbody>\n",
       "</table>\n",
       "<p>5 rows × 59 columns</p>\n",
       "</div>"
      ],
      "text/plain": [
       "  CruiseID  Year  IB22S  IB21S  IB20S  IB19S  IB18S  IB17  IB16A   IB16  ...  \\\n",
       "0   d22396  1996    NaN    NaN    NaN    NaN    NaN   NaN    NaN    NaN  ...   \n",
       "1   d23097  1997    NaN    NaN    NaN    NaN    NaN   NaN    NaN    NaN  ...   \n",
       "2   d23398  1998    NaN    NaN    NaN    NaN    NaN   NaN  0.041 -0.012  ...   \n",
       "3   d24299  1999    NaN    NaN    NaN    NaN    NaN   NaN    NaN    NaN  ...   \n",
       "4   d24500  2000    NaN    NaN    NaN    NaN    NaN   NaN    NaN    NaN  ...   \n",
       "\n",
       "       P     Q1      Q   R   S  15G   T  14G  9G  8G  \n",
       "0  0.071  0.155  0.218 NaN NaN  NaN NaN  NaN NaN NaN  \n",
       "1  0.001  0.006  0.048 NaN NaN  NaN NaN  NaN NaN NaN  \n",
       "2  0.059  0.237  0.296 NaN NaN  NaN NaN  NaN NaN NaN  \n",
       "3  0.133  0.138  0.147 NaN NaN  NaN NaN  NaN NaN NaN  \n",
       "4  0.110  0.173  0.035 NaN NaN  NaN NaN  NaN NaN NaN  \n",
       "\n",
       "[5 rows x 59 columns]"
      ]
     },
     "execution_count": 18,
     "metadata": {},
     "output_type": "execute_result"
    }
   ],
   "source": [
    "dfmerg=pd.merge(dfdate[['CruiseID','Year']],\n",
    "                    dftemp,\n",
    "                    how='left',\n",
    "                    on='Year')\n",
    "dfmerg.head()"
   ]
  },
  {
   "cell_type": "markdown",
   "metadata": {},
   "source": [
    "\\\n",
    "Melt dataframe for boxplots"
   ]
  },
  {
   "cell_type": "code",
   "execution_count": 19,
   "metadata": {},
   "outputs": [
    {
     "data": {
      "text/html": [
       "<div>\n",
       "<style scoped>\n",
       "    .dataframe tbody tr th:only-of-type {\n",
       "        vertical-align: middle;\n",
       "    }\n",
       "\n",
       "    .dataframe tbody tr th {\n",
       "        vertical-align: top;\n",
       "    }\n",
       "\n",
       "    .dataframe thead th {\n",
       "        text-align: right;\n",
       "    }\n",
       "</style>\n",
       "<table border=\"1\" class=\"dataframe\">\n",
       "  <thead>\n",
       "    <tr style=\"text-align: right;\">\n",
       "      <th></th>\n",
       "      <th>CruiseID</th>\n",
       "      <th>Year</th>\n",
       "      <th>Staname</th>\n",
       "      <th>Vabs_105m</th>\n",
       "    </tr>\n",
       "  </thead>\n",
       "  <tbody>\n",
       "    <tr>\n",
       "      <th>0</th>\n",
       "      <td>d22396</td>\n",
       "      <td>1996</td>\n",
       "      <td>IB22S</td>\n",
       "      <td>NaN</td>\n",
       "    </tr>\n",
       "    <tr>\n",
       "      <th>1</th>\n",
       "      <td>d23097</td>\n",
       "      <td>1997</td>\n",
       "      <td>IB22S</td>\n",
       "      <td>NaN</td>\n",
       "    </tr>\n",
       "    <tr>\n",
       "      <th>2</th>\n",
       "      <td>d23398</td>\n",
       "      <td>1998</td>\n",
       "      <td>IB22S</td>\n",
       "      <td>NaN</td>\n",
       "    </tr>\n",
       "    <tr>\n",
       "      <th>3</th>\n",
       "      <td>d24299</td>\n",
       "      <td>1999</td>\n",
       "      <td>IB22S</td>\n",
       "      <td>NaN</td>\n",
       "    </tr>\n",
       "    <tr>\n",
       "      <th>4</th>\n",
       "      <td>d24500</td>\n",
       "      <td>2000</td>\n",
       "      <td>IB22S</td>\n",
       "      <td>NaN</td>\n",
       "    </tr>\n",
       "    <tr>\n",
       "      <th>...</th>\n",
       "      <td>...</td>\n",
       "      <td>...</td>\n",
       "      <td>...</td>\n",
       "      <td>...</td>\n",
       "    </tr>\n",
       "    <tr>\n",
       "      <th>964</th>\n",
       "      <td>jc086</td>\n",
       "      <td>2013</td>\n",
       "      <td>8G</td>\n",
       "      <td>NaN</td>\n",
       "    </tr>\n",
       "    <tr>\n",
       "      <th>965</th>\n",
       "      <td>jr302</td>\n",
       "      <td>2014</td>\n",
       "      <td>8G</td>\n",
       "      <td>NaN</td>\n",
       "    </tr>\n",
       "    <tr>\n",
       "      <th>966</th>\n",
       "      <td>dy031</td>\n",
       "      <td>2015</td>\n",
       "      <td>8G</td>\n",
       "      <td>-0.070</td>\n",
       "    </tr>\n",
       "    <tr>\n",
       "      <th>967</th>\n",
       "      <td>dy052</td>\n",
       "      <td>2016</td>\n",
       "      <td>8G</td>\n",
       "      <td>-0.128</td>\n",
       "    </tr>\n",
       "    <tr>\n",
       "      <th>968</th>\n",
       "      <td>dy078</td>\n",
       "      <td>2017</td>\n",
       "      <td>8G</td>\n",
       "      <td>0.131</td>\n",
       "    </tr>\n",
       "  </tbody>\n",
       "</table>\n",
       "<p>969 rows × 4 columns</p>\n",
       "</div>"
      ],
      "text/plain": [
       "    CruiseID  Year Staname  Vabs_105m\n",
       "0     d22396  1996   IB22S        NaN\n",
       "1     d23097  1997   IB22S        NaN\n",
       "2     d23398  1998   IB22S        NaN\n",
       "3     d24299  1999   IB22S        NaN\n",
       "4     d24500  2000   IB22S        NaN\n",
       "..       ...   ...     ...        ...\n",
       "964    jc086  2013      8G        NaN\n",
       "965    jr302  2014      8G        NaN\n",
       "966    dy031  2015      8G     -0.070\n",
       "967    dy052  2016      8G     -0.128\n",
       "968    dy078  2017      8G      0.131\n",
       "\n",
       "[969 rows x 4 columns]"
      ]
     },
     "execution_count": 19,
     "metadata": {},
     "output_type": "execute_result"
    }
   ],
   "source": [
    "dfmelt = pd.melt(dfmerg,\n",
    "                id_vars=[\"CruiseID\",\"Year\"],\n",
    "                var_name=\"Staname\",\n",
    "                value_name=\"Vabs\"+'_'+zlvl)\n",
    "dfmelt"
   ]
  },
  {
   "cell_type": "markdown",
   "metadata": {},
   "source": [
    "\\\n",
    "Plot \"catplot\" figure"
   ]
  },
  {
   "cell_type": "code",
   "execution_count": 20,
   "metadata": {},
   "outputs": [
    {
     "data": {
      "text/plain": [
       "<Figure size 1152x720 with 0 Axes>"
      ]
     },
     "metadata": {},
     "output_type": "display_data"
    },
    {
     "data": {
      "image/png": "[encoded data removed]",
      "text/plain": [
       "<Figure size 1008x504 with 1 Axes>"
      ]
     },
     "metadata": {
      "needs_background": "light"
     },
     "output_type": "display_data"
    }
   ],
   "source": [
    "# Boxplot of the \n",
    "plt.figure(figsize=(16, 10))\n",
    "g =sns.catplot(x=\"Staname\",y=\"Vabs_105m\",\n",
    "            kind='box',\n",
    "            data=dfmelt,    \n",
    "            height=7, # make the plot 5 units high\n",
    "            aspect=2) # height should be three times width)\n",
    "\n",
    "# Display less xtick \n",
    "xticks = list(g.ax.get_xticks())\n",
    "xticklab = list(g.ax.get_xticklabels())\n",
    "g.ax.set_xticks(xticks[::2])\n",
    "g.ax.set_xticklabels(xticklab[::2]);\n",
    "g.ax.tick_params(direction='in', bottom=True, left=True)\n",
    "g.ax.yaxis.grid(True)"
   ]
  },
  {
   "cell_type": "markdown",
   "metadata": {},
   "source": [
    "## TODO1:  Plot also number of cruises for each station and bathymetry as additional subplot?"
   ]
  },
  {
   "cell_type": "markdown",
   "metadata": {},
   "source": [
    "## TODO2:  MAKE heatplot map of difference between LADCP and geostrophic velocity (at specific depth and for average)"
   ]
  },
  {
   "cell_type": "code",
   "execution_count": null,
   "metadata": {},
   "outputs": [],
   "source": []
  }
 ],
 "metadata": {
  "kernelspec": {
   "display_name": "Python 3",
   "language": "python",
   "name": "python3"
  },
  "language_info": {
   "codemirror_mode": {
    "name": "ipython",
    "version": 3
   },
   "file_extension": ".py",
   "mimetype": "text/x-python",
   "name": "python",
   "nbconvert_exporter": "python",
   "pygments_lexer": "ipython3",
   "version": "3.8.2"
  }
 },
 "nbformat": 4,
 "nbformat_minor": 4
}
