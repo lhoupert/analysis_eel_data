{
 "cells": [
  {
   "cell_type": "markdown",
   "metadata": {},
   "source": [
    "# Notebook for exploration of the EEL datafile\n"
   ]
  },
  {
   "cell_type": "code",
   "execution_count": 7,
   "metadata": {},
   "outputs": [],
   "source": [
    "import pandas as pd"
   ]
  },
  {
   "cell_type": "markdown",
   "metadata": {},
   "source": [
    "## 1. Load data into Dataframe"
   ]
  },
  {
   "cell_type": "code",
   "execution_count": 14,
   "metadata": {},
   "outputs": [
    {
     "name": "stdout",
     "output_type": "stream",
     "text": [
      "../data/raw/EELCTDandLADCP_refpos_origCTD.csv\n",
      "../data/raw/EELCTDandLADCP_refdate.csv\n",
      "../data/raw/EELCTDandLADCP_2Dfield.csv\n",
      "../data/raw/EELCTDandLADCP_refpos_gvel.csv\n",
      "../data/raw/EELCTDandLADCP_3Dfield.csv\n"
     ]
    }
   ],
   "source": [
    "pathdir = '../data/raw'\n",
    "\n",
    "# List available data files\n",
    "import glob\n",
    "listfiles= glob.glob(pathdir+'/'+'*.csv');\n",
    "print(*listfiles, sep = \"\\n\")\n"
   ]
  },
  {
   "cell_type": "markdown",
   "metadata": {},
   "source": [
    "#### Import 3D Fields"
   ]
  },
  {
   "cell_type": "code",
   "execution_count": 15,
   "metadata": {},
   "outputs": [
    {
     "name": "stdout",
     "output_type": "stream",
     "text": [
      "      CruiseID Staname      Refdist  Depth         CT         SA     Sigma0  \\\n",
      "0       d22396    13G+  1186.152652     25  12.980150  35.327645  26.518612   \n",
      "1       d22396    13G+  1186.152652     35  12.957195  35.327343  26.522876   \n",
      "2       d22396    13G+  1186.152652     45  12.741765  35.316042  26.556319   \n",
      "3       d22396    13G+  1186.152652     55  12.332102  35.311617  26.632529   \n",
      "4       d22396    13G+  1186.152652     65  11.922477  35.307203  26.708740   \n",
      "...        ...     ...          ...    ...        ...        ...        ...   \n",
      "63894    dy078  IB22S+     6.721022     65   7.857166  35.207729  27.326084   \n",
      "63895    dy078  IB22S+     6.721022     75   7.761429  35.210621  27.342394   \n",
      "63896    dy078  IB22S+     6.721022     85   7.738686  35.217625  27.351197   \n",
      "63897    dy078  IB22S+     6.721022     95   7.722076  35.219149  27.354841   \n",
      "63898    dy078  IB22S+     6.721022    105   7.709302  35.222444  27.359289   \n",
      "\n",
      "           Vrel    Vladcp      Vabs  Vladcpalong  \n",
      "0      0.071146 -0.027394  0.031708    -0.186005  \n",
      "1      0.071017 -0.006057  0.031579    -0.195213  \n",
      "2      0.071887 -0.002070  0.032449    -0.198745  \n",
      "3      0.070745  0.007129  0.031306    -0.210499  \n",
      "4      0.064738  0.027943  0.025300    -0.243177  \n",
      "...         ...       ...       ...          ...  \n",
      "63894 -0.000007  0.039284  0.006471    -0.009145  \n",
      "63895  0.000259  0.048348  0.006736    -0.034539  \n",
      "63896 -0.000039  0.050398  0.006438    -0.051724  \n",
      "63897 -0.000130  0.043659  0.006347    -0.061908  \n",
      "63898  0.000000  0.050598  0.006477    -0.070790  \n",
      "\n",
      "[63899 rows x 11 columns]\n"
     ]
    }
   ],
   "source": [
    "file1 = pathdir+'/'+'EELCTDandLADCP_3Dfield.csv'\n",
    "df3D = pd.read_csv(file1,sep=',', index_col=None, \n",
    "                     header=0)\n",
    "print(df3D)\n"
   ]
  },
  {
   "cell_type": "markdown",
   "metadata": {},
   "source": [
    "#### Import Metadata"
   ]
  },
  {
   "cell_type": "code",
   "execution_count": 16,
   "metadata": {},
   "outputs": [
    {
     "name": "stdout",
     "output_type": "stream",
     "text": [
      "   CruiseID  Year  Month\n",
      "0    d22396  1996     10\n",
      "1    d23097  1997      9\n",
      "2    d23398  1998      5\n",
      "3    d24299  1999      9\n",
      "4    d24500  2000      2\n",
      "5    d25301  2001     12\n",
      "6   cd17605  2005     10\n",
      "7    d31206  2006     10\n",
      "8    d32107  2007      8\n",
      "9    d34009  2009      6\n",
      "10   d35110  2010      5\n",
      "11   d36511  2011      5\n",
      "12    jc086  2013      5\n",
      "13    jr302  2014      7\n",
      "14    dy031  2015      6\n",
      "15    dy052  2016      6\n",
      "16    dy078  2017      5\n"
     ]
    }
   ],
   "source": [
    "# Date of each cruise\n",
    "file2 = pathdir+'/'+'EELCTDandLADCP_refdate.csv'\n",
    "dfdate = pd.read_csv(file2,sep=',', index_col=None, \n",
    "                     header=0)\n",
    "print(dfdate)"
   ]
  },
  {
   "cell_type": "code",
   "execution_count": 17,
   "metadata": {},
   "outputs": [
    {
     "name": "stdout",
     "output_type": "stream",
     "text": [
      "   CruiseID  RefLonGV  RefLatGV  RefDepthGV\n",
      "0       1G+   -6.2080   56.6750       110.0\n",
      "1       2G+   -6.3250   56.6955        50.0\n",
      "2       3G+   -6.4085   56.7205        92.5\n",
      "3       4G+   -6.5250   56.7330        97.5\n",
      "4       5G+   -6.6750   56.7330        60.0\n",
      "..      ...       ...       ...         ...\n",
      "63   IB18S+  -19.7510   62.5000      1730.0\n",
      "64   IB19S+  -19.6095   62.7920      1535.0\n",
      "65   IB20S+  -19.7335   63.0250      1215.0\n",
      "66   IB21S+  -19.9915   63.1745       850.0\n",
      "67   IB22S+  -20.1410   63.2665       395.0\n",
      "\n",
      "[68 rows x 4 columns]\n"
     ]
    }
   ],
   "source": [
    "# Location of EEL stations\n",
    "file3 = pathdir+'/'+'EELCTDandLADCP_refpos_gvel.csv'\n",
    "dfloc = pd.read_csv(file3,sep=',', index_col=None, \n",
    "                     header=0)\n",
    "print(dfloc)"
   ]
  },
  {
   "cell_type": "markdown",
   "metadata": {},
   "source": [
    "## 2. Plot Station Location"
   ]
  },
  {
   "cell_type": "code",
   "execution_count": null,
   "metadata": {},
   "outputs": [],
   "source": []
  },
  {
   "cell_type": "markdown",
   "metadata": {},
   "source": [
    "## 3. Create Pivot Tables"
   ]
  },
  {
   "cell_type": "code",
   "execution_count": null,
   "metadata": {},
   "outputs": [],
   "source": []
  },
  {
   "cell_type": "code",
   "execution_count": null,
   "metadata": {},
   "outputs": [],
   "source": []
  }
 ],
 "metadata": {
  "kernelspec": {
   "display_name": "Python 3",
   "language": "python",
   "name": "python3"
  },
  "language_info": {
   "codemirror_mode": {
    "name": "ipython",
    "version": 3
   },
   "file_extension": ".py",
   "mimetype": "text/x-python",
   "name": "python",
   "nbconvert_exporter": "python",
   "pygments_lexer": "ipython3",
   "version": "3.8.2"
  }
 },
 "nbformat": 4,
 "nbformat_minor": 4
}
