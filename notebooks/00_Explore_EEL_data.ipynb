{
 "cells": [
  {
   "cell_type": "markdown",
   "metadata": {},
   "source": [
    "# Notebook for exploration of the EEL datafile\n"
   ]
  },
  {
   "cell_type": "code",
   "execution_count": 29,
   "metadata": {},
   "outputs": [],
   "source": [
    "import numpy as np\n",
    "import pandas as pd\n",
    "import matplotlib.pyplot as plt\n",
    "\n",
    "pd.set_option(\"display.precision\", 4)"
   ]
  },
  {
   "cell_type": "markdown",
   "metadata": {},
   "source": [
    "## 1. Load data into Dataframe"
   ]
  },
  {
   "cell_type": "code",
   "execution_count": 30,
   "metadata": {},
   "outputs": [
    {
     "name": "stdout",
     "output_type": "stream",
     "text": [
      "../data/raw/EELCTDandLADCP_refpos_origCTD.csv\n",
      "../data/raw/EELCTDandLADCP_refdate.csv\n",
      "../data/raw/EELCTDandLADCP_2Dfield.csv\n",
      "../data/raw/EELCTDandLADCP_refpos_gvel.csv\n",
      "../data/raw/EELCTDandLADCP_3Dfield.csv\n"
     ]
    }
   ],
   "source": [
    "pathdir = '../data/raw'\n",
    "\n",
    "# List available data files\n",
    "import glob\n",
    "listfiles= glob.glob(pathdir+'/'+'*.csv');\n",
    "print(*listfiles, sep = \"\\n\")\n"
   ]
  },
  {
   "cell_type": "markdown",
   "metadata": {},
   "source": [
    "#### Import 3D Fields"
   ]
  },
  {
   "cell_type": "code",
   "execution_count": 31,
   "metadata": {},
   "outputs": [
    {
     "name": "stdout",
     "output_type": "stream",
     "text": [
      "      CruiseID Staname    Refdist  Depth       CT       SA   Sigma0  \\\n",
      "0       d22396    13G+  1186.1527     25  12.9802  35.3276  26.5186   \n",
      "1       d22396    13G+  1186.1527     35  12.9572  35.3273  26.5229   \n",
      "2       d22396    13G+  1186.1527     45  12.7418  35.3160  26.5563   \n",
      "3       d22396    13G+  1186.1527     55  12.3321  35.3116  26.6325   \n",
      "4       d22396    13G+  1186.1527     65  11.9225  35.3072  26.7087   \n",
      "...        ...     ...        ...    ...      ...      ...      ...   \n",
      "63894    dy078  IB22S+     6.7210     65   7.8572  35.2077  27.3261   \n",
      "63895    dy078  IB22S+     6.7210     75   7.7614  35.2106  27.3424   \n",
      "63896    dy078  IB22S+     6.7210     85   7.7387  35.2176  27.3512   \n",
      "63897    dy078  IB22S+     6.7210     95   7.7221  35.2191  27.3548   \n",
      "63898    dy078  IB22S+     6.7210    105   7.7093  35.2224  27.3593   \n",
      "\n",
      "             Vrel  Vladcp    Vabs  Vladcpalong  \n",
      "0      7.1146e-02 -0.0274  0.0317      -0.1860  \n",
      "1      7.1017e-02 -0.0061  0.0316      -0.1952  \n",
      "2      7.1887e-02 -0.0021  0.0324      -0.1987  \n",
      "3      7.0745e-02  0.0071  0.0313      -0.2105  \n",
      "4      6.4738e-02  0.0279  0.0253      -0.2432  \n",
      "...           ...     ...     ...          ...  \n",
      "63894 -6.5029e-06  0.0393  0.0065      -0.0091  \n",
      "63895  2.5855e-04  0.0483  0.0067      -0.0345  \n",
      "63896 -3.9223e-05  0.0504  0.0064      -0.0517  \n",
      "63897 -1.2993e-04  0.0437  0.0063      -0.0619  \n",
      "63898  0.0000e+00  0.0506  0.0065      -0.0708  \n",
      "\n",
      "[63899 rows x 11 columns]\n"
     ]
    }
   ],
   "source": [
    "file1 = pathdir+'/'+'EELCTDandLADCP_3Dfield.csv'\n",
    "df3D = pd.read_csv(file1,sep=',', index_col=None, \n",
    "                     header=0)\n",
    "print(df3D)\n"
   ]
  },
  {
   "cell_type": "markdown",
   "metadata": {},
   "source": [
    "#### Import Metadata"
   ]
  },
  {
   "cell_type": "code",
   "execution_count": 32,
   "metadata": {},
   "outputs": [
    {
     "name": "stdout",
     "output_type": "stream",
     "text": [
      "   CruiseID  Year  Month\n",
      "0    d22396  1996     10\n",
      "1    d23097  1997      9\n",
      "2    d23398  1998      5\n",
      "3    d24299  1999      9\n",
      "4    d24500  2000      2\n",
      "5    d25301  2001     12\n",
      "6   cd17605  2005     10\n",
      "7    d31206  2006     10\n",
      "8    d32107  2007      8\n",
      "9    d34009  2009      6\n",
      "10   d35110  2010      5\n",
      "11   d36511  2011      5\n",
      "12    jc086  2013      5\n",
      "13    jr302  2014      7\n",
      "14    dy031  2015      6\n",
      "15    dy052  2016      6\n",
      "16    dy078  2017      5\n"
     ]
    }
   ],
   "source": [
    "# Date of each cruise\n",
    "file2 = pathdir+'/'+'EELCTDandLADCP_refdate.csv'\n",
    "dfdate = pd.read_csv(file2,sep=',', index_col=None, \n",
    "                     header=0)\n",
    "print(dfdate)"
   ]
  },
  {
   "cell_type": "code",
   "execution_count": 33,
   "metadata": {},
   "outputs": [
    {
     "name": "stdout",
     "output_type": "stream",
     "text": [
      "   Staname    Refdist  RefLonGV  RefLatGV  RefDepthGV\n",
      "0      1G+  1302.8994   -6.2080   56.6750       110.0\n",
      "1      2G+  1295.3205   -6.3250   56.6955        50.0\n",
      "2      3G+  1289.5191   -6.4085   56.7205        92.5\n",
      "3      4G+  1282.0609   -6.5250   56.7330        97.5\n",
      "4      5G+  1272.9178   -6.6750   56.7330        60.0\n",
      "..     ...        ...       ...       ...         ...\n",
      "63  IB18S+   103.0651  -19.7510   62.5000      1730.0\n",
      "64  IB19S+    69.8213  -19.6095   62.7920      1535.0\n",
      "65  IB20S+    40.4960  -19.7335   63.0250      1215.0\n",
      "66  IB21S+    19.4086  -19.9915   63.1745       850.0\n",
      "67  IB22S+     6.7210  -20.1410   63.2665       395.0\n",
      "\n",
      "[68 rows x 5 columns]\n"
     ]
    }
   ],
   "source": [
    "# Location of EEL stations\n",
    "file3 = pathdir+'/'+'EELCTDandLADCP_refpos_gvel.csv'\n",
    "dfloc = pd.read_csv(file3,sep=',', index_col=None, \n",
    "                     header=0)\n",
    "print(dfloc)"
   ]
  },
  {
   "cell_type": "markdown",
   "metadata": {},
   "source": [
    "## 2. Create Pivot Tables"
   ]
  },
  {
   "cell_type": "code",
   "execution_count": 27,
   "metadata": {},
   "outputs": [
    {
     "data": {
      "text/plain": [
       "Staname  Depth\n",
       "13G+     15      -0.0422\n",
       "         25      -0.0056\n",
       "         35      -0.0059\n",
       "         45      -0.0054\n",
       "         55      -0.0055\n",
       "                   ...  \n",
       "T+       65      -0.0187\n",
       "         75      -0.0221\n",
       "         85      -0.0605\n",
       "         95      -0.0624\n",
       "         105     -0.0635\n",
       "Name: Vabs, Length: 6517, dtype: float64"
      ]
     },
     "execution_count": 27,
     "metadata": {},
     "output_type": "execute_result"
    }
   ],
   "source": [
    "df3D.groupby(['Staname','Depth'])[\"Vabs\"].mean()"
   ]
  },
  {
   "cell_type": "code",
   "execution_count": 28,
   "metadata": {},
   "outputs": [
    {
     "name": "stdout",
     "output_type": "stream",
     "text": [
      "Staname    13G+    14G+    15G+     8G+     9G+      A+      B+      C+  \\\n",
      "Depth                                                                     \n",
      "5           NaN     NaN     NaN     NaN     NaN -0.0604  0.0985  0.0729   \n",
      "15      -0.0422 -0.0383 -0.0582  0.0468 -0.0220 -0.0255 -0.0010  0.0246   \n",
      "25      -0.0056  0.0195  0.0156  0.0489 -0.0169 -0.0283 -0.0042  0.0409   \n",
      "35      -0.0059  0.0191  0.0125  0.0472 -0.0085 -0.0282 -0.0049  0.0399   \n",
      "45      -0.0054  0.0194  0.0111  0.0418 -0.0221 -0.0289 -0.0115  0.0441   \n",
      "...         ...     ...     ...     ...     ...     ...     ...     ...   \n",
      "2645        NaN     NaN     NaN     NaN     NaN     NaN     NaN     NaN   \n",
      "2655        NaN     NaN     NaN     NaN     NaN     NaN     NaN     NaN   \n",
      "2665        NaN     NaN     NaN     NaN     NaN     NaN     NaN     NaN   \n",
      "2675        NaN     NaN     NaN     NaN     NaN     NaN     NaN     NaN   \n",
      "2685        NaN     NaN     NaN     NaN     NaN     NaN     NaN     NaN   \n",
      "\n",
      "Staname      D+      E+  ...      L+      M+      N+      O+      P+      Q+  \\\n",
      "Depth                    ...                                                   \n",
      "5        0.0658  0.0087  ... -0.0904     NaN  0.2153  0.0249     NaN  0.1177   \n",
      "15      -0.0400 -0.0740  ... -0.0838 -0.0760  0.0117  0.0537  0.0703  0.1050   \n",
      "25      -0.0101 -0.0894  ... -0.0841 -0.0760  0.0103  0.0534  0.0693  0.1075   \n",
      "35      -0.0107 -0.0918  ... -0.0841 -0.0753  0.0094  0.0591  0.0623  0.1093   \n",
      "45       0.0050 -0.0654  ... -0.0755 -0.0798 -0.0081  0.0513  0.0608  0.1113   \n",
      "...         ...     ...  ...     ...     ...     ...     ...     ...     ...   \n",
      "2645        NaN     NaN  ...     NaN     NaN     NaN     NaN     NaN     NaN   \n",
      "2655        NaN     NaN  ...     NaN     NaN     NaN     NaN     NaN     NaN   \n",
      "2665        NaN     NaN  ...     NaN     NaN     NaN     NaN     NaN     NaN   \n",
      "2675        NaN     NaN  ...     NaN     NaN     NaN     NaN     NaN     NaN   \n",
      "2685        NaN     NaN  ...     NaN     NaN     NaN     NaN     NaN     NaN   \n",
      "\n",
      "Staname     Q1+      R+      S+      T+  \n",
      "Depth                                    \n",
      "5        0.1157  0.1197     NaN     NaN  \n",
      "15       0.0942  0.1077  0.0003 -0.0597  \n",
      "25       0.0609  0.1202  0.0531 -0.0206  \n",
      "35       0.0631  0.1203  0.0526 -0.0169  \n",
      "45       0.0807  0.1216  0.0523 -0.0175  \n",
      "...         ...     ...     ...     ...  \n",
      "2645        NaN     NaN     NaN     NaN  \n",
      "2655        NaN     NaN     NaN     NaN  \n",
      "2665        NaN     NaN     NaN     NaN  \n",
      "2675        NaN     NaN     NaN     NaN  \n",
      "2685        NaN     NaN     NaN     NaN  \n",
      "\n",
      "[269 rows x 58 columns]\n"
     ]
    }
   ],
   "source": [
    "df_MVabs = df3D.pivot_table(values=\"Vabs\", index=\"Depth\", columns=\"Staname\")\n",
    "print(df_MVabs)"
   ]
  },
  {
   "cell_type": "code",
   "execution_count": 34,
   "metadata": {},
   "outputs": [
    {
     "data": {
      "text/plain": [
       "['13G+',\n",
       " '14G+',\n",
       " '15G+',\n",
       " '8G+',\n",
       " '9G+',\n",
       " 'A+',\n",
       " 'B+',\n",
       " 'C+',\n",
       " 'D+',\n",
       " 'E+',\n",
       " 'F+',\n",
       " 'G+',\n",
       " 'H+',\n",
       " 'I+',\n",
       " 'IB1+',\n",
       " 'IB10+',\n",
       " 'IB11+',\n",
       " 'IB11A+',\n",
       " 'IB12+',\n",
       " 'IB12A+',\n",
       " 'IB13+',\n",
       " 'IB13A+',\n",
       " 'IB14+',\n",
       " 'IB15+',\n",
       " 'IB16+',\n",
       " 'IB16A+',\n",
       " 'IB17+',\n",
       " 'IB18S+',\n",
       " 'IB19S+',\n",
       " 'IB1A+',\n",
       " 'IB2+',\n",
       " 'IB20S+',\n",
       " 'IB21S+',\n",
       " 'IB22S+',\n",
       " 'IB2A+',\n",
       " 'IB3+',\n",
       " 'IB3A+',\n",
       " 'IB4+',\n",
       " 'IB4A+',\n",
       " 'IB4B+',\n",
       " 'IB4C+',\n",
       " 'IB5+',\n",
       " 'IB6+',\n",
       " 'IB7+',\n",
       " 'IB8+',\n",
       " 'IB9+',\n",
       " 'J+',\n",
       " 'K+',\n",
       " 'L+',\n",
       " 'M+',\n",
       " 'N+',\n",
       " 'O+',\n",
       " 'P+',\n",
       " 'Q+',\n",
       " 'Q1+',\n",
       " 'R+',\n",
       " 'S+',\n",
       " 'T+']"
      ]
     },
     "execution_count": 34,
     "metadata": {},
     "output_type": "execute_result"
    }
   ],
   "source": [
    "# Reorganise the columns of the pivot table according to the distance of the station on the EEL section\n",
    "# Use dfloc to index the columns\n",
    "list(df_MVabs.columns) "
   ]
  },
  {
   "cell_type": "code",
   "execution_count": null,
   "metadata": {},
   "outputs": [],
   "source": []
  }
 ],
 "metadata": {
  "kernelspec": {
   "display_name": "Python 3",
   "language": "python",
   "name": "python3"
  },
  "language_info": {
   "codemirror_mode": {
    "name": "ipython",
    "version": 3
   },
   "file_extension": ".py",
   "mimetype": "text/x-python",
   "name": "python",
   "nbconvert_exporter": "python",
   "pygments_lexer": "ipython3",
   "version": "3.8.2"
  }
 },
 "nbformat": 4,
 "nbformat_minor": 4
}
