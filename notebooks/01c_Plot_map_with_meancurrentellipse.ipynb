{
 "cells": [
  {
   "cell_type": "code",
   "execution_count": 1,
   "metadata": {
    "tags": [
     "hide_input",
     "hide_output"
    ]
   },
   "outputs": [
    {
     "data": {
      "text/html": [
       "<script>jQuery(function() {if (jQuery(\"body.notebook_app\").length == 0) { jQuery(\".input_area\").toggle(); jQuery(\".prompt\").toggle();}});</script>"
      ]
     },
     "metadata": {},
     "output_type": "display_data"
    },
    {
     "data": {
      "text/html": [
       "<button onclick=\"jQuery('.input_area').toggle(); jQuery('.prompt').toggle();\">Toggle code</button>"
      ]
     },
     "metadata": {},
     "output_type": "display_data"
    }
   ],
   "source": [
    "from IPython.display import display\n",
    "from IPython.display import HTML\n",
    "import IPython.core.display as di # Example: di.display_html('<h3>%s:</h3>' % str, raw=True)\n",
    "\n",
    "# This line will hide code by default when the notebook is exported as HTML\n",
    "di.display_html('<script>jQuery(function() {if (jQuery(\"body.notebook_app\").length == 0) { jQuery(\".input_area\").toggle(); jQuery(\".prompt\").toggle();}});</script>', raw=True)\n",
    "\n",
    "# This line will add a button to toggle visibility of code blocks, for use with the HTML export version\n",
    "di.display_html('''<button onclick=\"jQuery('.input_area').toggle(); jQuery('.prompt').toggle();\">Toggle code</button>''', raw=True)\n",
    "\n"
   ]
  },
  {
   "cell_type": "markdown",
   "metadata": {},
   "source": [
    "# Plot regional maps with mean current ellipses on top\n"
   ]
  },
  {
   "cell_type": "code",
   "execution_count": 17,
   "metadata": {},
   "outputs": [],
   "source": [
    "import numpy as np\n",
    "import pandas as pd\n",
    "import matplotlib.pyplot as plt\n",
    "import matplotlib.ticker as mticker\n",
    "from matplotlib.patches import Ellipse\n",
    "import matplotlib.transforms as transforms\n",
    "\n",
    "import xarray as xr\n",
    "\n",
    "#plt.style.use('dark_background')\n",
    "\n",
    "%matplotlib inline\n"
   ]
  },
  {
   "cell_type": "markdown",
   "metadata": {},
   "source": [
    "## 1. Load and Prep. data"
   ]
  },
  {
   "cell_type": "markdown",
   "metadata": {},
   "source": [
    "### 1.1 Load data into DataFrame"
   ]
  },
  {
   "cell_type": "code",
   "execution_count": 18,
   "metadata": {},
   "outputs": [
    {
     "data": {
      "text/html": [
       "<div>\n",
       "<style scoped>\n",
       "    .dataframe tbody tr th:only-of-type {\n",
       "        vertical-align: middle;\n",
       "    }\n",
       "\n",
       "    .dataframe tbody tr th {\n",
       "        vertical-align: top;\n",
       "    }\n",
       "\n",
       "    .dataframe thead th {\n",
       "        text-align: right;\n",
       "    }\n",
       "</style>\n",
       "<table border=\"1\" class=\"dataframe\">\n",
       "  <thead>\n",
       "    <tr style=\"text-align: right;\">\n",
       "      <th></th>\n",
       "      <th>CruiseID</th>\n",
       "      <th>Year</th>\n",
       "      <th>Staname</th>\n",
       "      <th>Refdist</th>\n",
       "      <th>Depth</th>\n",
       "      <th>LADCP_U</th>\n",
       "      <th>LADCP_V</th>\n",
       "    </tr>\n",
       "  </thead>\n",
       "  <tbody>\n",
       "    <tr>\n",
       "      <th>0</th>\n",
       "      <td>d22396</td>\n",
       "      <td>1996</td>\n",
       "      <td>13G</td>\n",
       "      <td>1191</td>\n",
       "      <td>25</td>\n",
       "      <td>-0.227</td>\n",
       "      <td>0.019</td>\n",
       "    </tr>\n",
       "    <tr>\n",
       "      <th>1</th>\n",
       "      <td>d22396</td>\n",
       "      <td>1996</td>\n",
       "      <td>13G</td>\n",
       "      <td>1191</td>\n",
       "      <td>35</td>\n",
       "      <td>-0.230</td>\n",
       "      <td>0.044</td>\n",
       "    </tr>\n",
       "    <tr>\n",
       "      <th>2</th>\n",
       "      <td>d22396</td>\n",
       "      <td>1996</td>\n",
       "      <td>13G</td>\n",
       "      <td>1191</td>\n",
       "      <td>45</td>\n",
       "      <td>-0.236</td>\n",
       "      <td>0.049</td>\n",
       "    </tr>\n",
       "    <tr>\n",
       "      <th>3</th>\n",
       "      <td>d22396</td>\n",
       "      <td>1996</td>\n",
       "      <td>13G</td>\n",
       "      <td>1191</td>\n",
       "      <td>55</td>\n",
       "      <td>-0.251</td>\n",
       "      <td>0.052</td>\n",
       "    </tr>\n",
       "    <tr>\n",
       "      <th>4</th>\n",
       "      <td>d22396</td>\n",
       "      <td>1996</td>\n",
       "      <td>13G</td>\n",
       "      <td>1191</td>\n",
       "      <td>65</td>\n",
       "      <td>-0.283</td>\n",
       "      <td>0.066</td>\n",
       "    </tr>\n",
       "    <tr>\n",
       "      <th>...</th>\n",
       "      <td>...</td>\n",
       "      <td>...</td>\n",
       "      <td>...</td>\n",
       "      <td>...</td>\n",
       "      <td>...</td>\n",
       "      <td>...</td>\n",
       "      <td>...</td>\n",
       "    </tr>\n",
       "    <tr>\n",
       "      <th>76029</th>\n",
       "      <td>dy078</td>\n",
       "      <td>2017</td>\n",
       "      <td>IB23S</td>\n",
       "      <td>0</td>\n",
       "      <td>65</td>\n",
       "      <td>0.026</td>\n",
       "      <td>0.078</td>\n",
       "    </tr>\n",
       "    <tr>\n",
       "      <th>76030</th>\n",
       "      <td>dy078</td>\n",
       "      <td>2017</td>\n",
       "      <td>IB23S</td>\n",
       "      <td>0</td>\n",
       "      <td>75</td>\n",
       "      <td>0.045</td>\n",
       "      <td>0.146</td>\n",
       "    </tr>\n",
       "    <tr>\n",
       "      <th>76031</th>\n",
       "      <td>dy078</td>\n",
       "      <td>2017</td>\n",
       "      <td>IB23S</td>\n",
       "      <td>0</td>\n",
       "      <td>85</td>\n",
       "      <td>0.036</td>\n",
       "      <td>0.166</td>\n",
       "    </tr>\n",
       "    <tr>\n",
       "      <th>76032</th>\n",
       "      <td>dy078</td>\n",
       "      <td>2017</td>\n",
       "      <td>IB23S</td>\n",
       "      <td>0</td>\n",
       "      <td>95</td>\n",
       "      <td>0.026</td>\n",
       "      <td>0.180</td>\n",
       "    </tr>\n",
       "    <tr>\n",
       "      <th>76033</th>\n",
       "      <td>dy078</td>\n",
       "      <td>2017</td>\n",
       "      <td>IB23S</td>\n",
       "      <td>0</td>\n",
       "      <td>105</td>\n",
       "      <td>0.034</td>\n",
       "      <td>0.194</td>\n",
       "    </tr>\n",
       "  </tbody>\n",
       "</table>\n",
       "<p>76034 rows × 7 columns</p>\n",
       "</div>"
      ],
      "text/plain": [
       "      CruiseID  Year Staname  Refdist  Depth  LADCP_U  LADCP_V\n",
       "0       d22396  1996     13G     1191     25   -0.227    0.019\n",
       "1       d22396  1996     13G     1191     35   -0.230    0.044\n",
       "2       d22396  1996     13G     1191     45   -0.236    0.049\n",
       "3       d22396  1996     13G     1191     55   -0.251    0.052\n",
       "4       d22396  1996     13G     1191     65   -0.283    0.066\n",
       "...        ...   ...     ...      ...    ...      ...      ...\n",
       "76029    dy078  2017   IB23S        0     65    0.026    0.078\n",
       "76030    dy078  2017   IB23S        0     75    0.045    0.146\n",
       "76031    dy078  2017   IB23S        0     85    0.036    0.166\n",
       "76032    dy078  2017   IB23S        0     95    0.026    0.180\n",
       "76033    dy078  2017   IB23S        0    105    0.034    0.194\n",
       "\n",
       "[76034 rows x 7 columns]"
      ]
     },
     "execution_count": 18,
     "metadata": {},
     "output_type": "execute_result"
    }
   ],
   "source": [
    "pathdir = '../data/raw/csv_ctdgrid'\n",
    "file4 = pathdir+'/'+'EEL_LADCP_3Dfield.csv'\n",
    "dflad = pd.read_csv(file4,sep=',', index_col=None, \n",
    "                     header=0)\n",
    "dflad=dflad.round({'LADCP_U': 3, 'LADCP_V': 3})\n",
    "dflad['Refdist']=dflad['Refdist'].apply(int)\n",
    "dflad"
   ]
  },
  {
   "cell_type": "code",
   "execution_count": 19,
   "metadata": {},
   "outputs": [
    {
     "data": {
      "text/html": [
       "<div>\n",
       "<style scoped>\n",
       "    .dataframe tbody tr th:only-of-type {\n",
       "        vertical-align: middle;\n",
       "    }\n",
       "\n",
       "    .dataframe tbody tr th {\n",
       "        vertical-align: top;\n",
       "    }\n",
       "\n",
       "    .dataframe thead th {\n",
       "        text-align: right;\n",
       "    }\n",
       "</style>\n",
       "<table border=\"1\" class=\"dataframe\">\n",
       "  <thead>\n",
       "    <tr style=\"text-align: right;\">\n",
       "      <th></th>\n",
       "      <th></th>\n",
       "      <th></th>\n",
       "      <th>U</th>\n",
       "      <th>V</th>\n",
       "    </tr>\n",
       "    <tr>\n",
       "      <th>refdist</th>\n",
       "      <th>year</th>\n",
       "      <th>depth</th>\n",
       "      <th></th>\n",
       "      <th></th>\n",
       "    </tr>\n",
       "  </thead>\n",
       "  <tbody>\n",
       "    <tr>\n",
       "      <th rowspan=\"5\" valign=\"top\">0</th>\n",
       "      <th rowspan=\"5\" valign=\"top\">2005</th>\n",
       "      <th>15</th>\n",
       "      <td>-0.122</td>\n",
       "      <td>0.196</td>\n",
       "    </tr>\n",
       "    <tr>\n",
       "      <th>25</th>\n",
       "      <td>-0.118</td>\n",
       "      <td>0.191</td>\n",
       "    </tr>\n",
       "    <tr>\n",
       "      <th>35</th>\n",
       "      <td>-0.108</td>\n",
       "      <td>0.180</td>\n",
       "    </tr>\n",
       "    <tr>\n",
       "      <th>45</th>\n",
       "      <td>-0.104</td>\n",
       "      <td>0.169</td>\n",
       "    </tr>\n",
       "    <tr>\n",
       "      <th>55</th>\n",
       "      <td>-0.110</td>\n",
       "      <td>0.174</td>\n",
       "    </tr>\n",
       "    <tr>\n",
       "      <th>...</th>\n",
       "      <th>...</th>\n",
       "      <th>...</th>\n",
       "      <td>...</td>\n",
       "      <td>...</td>\n",
       "    </tr>\n",
       "    <tr>\n",
       "      <th rowspan=\"5\" valign=\"top\">1242</th>\n",
       "      <th rowspan=\"5\" valign=\"top\">2017</th>\n",
       "      <th>115</th>\n",
       "      <td>0.128</td>\n",
       "      <td>0.087</td>\n",
       "    </tr>\n",
       "    <tr>\n",
       "      <th>125</th>\n",
       "      <td>0.165</td>\n",
       "      <td>0.092</td>\n",
       "    </tr>\n",
       "    <tr>\n",
       "      <th>135</th>\n",
       "      <td>0.181</td>\n",
       "      <td>0.103</td>\n",
       "    </tr>\n",
       "    <tr>\n",
       "      <th>145</th>\n",
       "      <td>0.186</td>\n",
       "      <td>0.120</td>\n",
       "    </tr>\n",
       "    <tr>\n",
       "      <th>155</th>\n",
       "      <td>0.196</td>\n",
       "      <td>0.155</td>\n",
       "    </tr>\n",
       "  </tbody>\n",
       "</table>\n",
       "<p>76034 rows × 2 columns</p>\n",
       "</div>"
      ],
      "text/plain": [
       "                        U      V\n",
       "refdist year depth              \n",
       "0       2005 15    -0.122  0.196\n",
       "             25    -0.118  0.191\n",
       "             35    -0.108  0.180\n",
       "             45    -0.104  0.169\n",
       "             55    -0.110  0.174\n",
       "...                   ...    ...\n",
       "1242    2017 115    0.128  0.087\n",
       "             125    0.165  0.092\n",
       "             135    0.181  0.103\n",
       "             145    0.186  0.120\n",
       "             155    0.196  0.155\n",
       "\n",
       "[76034 rows x 2 columns]"
      ]
     },
     "execution_count": 19,
     "metadata": {},
     "output_type": "execute_result"
    }
   ],
   "source": [
    "df3D = dflad.rename(columns={\"Refdist\": \"refdist\",\"Year\": \"year\",\"Depth\": \"depth\"}).set_index(['refdist','year','depth']).round(3).sort_values(['refdist','year','depth']).drop(columns=['CruiseID','Staname'])\n",
    "df3D=df3D.rename(columns={\"LADCP_U\": \"U\", \"LADCP_V\": \"V\"})\n",
    "df3D"
   ]
  },
  {
   "cell_type": "markdown",
   "metadata": {},
   "source": [
    "<br><br>\n",
    "### 1.2 Convert 3D dataframe into DataSet"
   ]
  },
  {
   "cell_type": "code",
   "execution_count": 20,
   "metadata": {},
   "outputs": [
    {
     "name": "stdout",
     "output_type": "stream",
     "text": [
      "<xarray.Dataset>\n",
      "Dimensions:  (depth: 271, refdist: 60, year: 15)\n",
      "Coordinates:\n",
      "  * refdist  (refdist) int64 0 13 25 55 84 122 ... 1170 1180 1191 1222 1232 1242\n",
      "  * year     (year) int64 1996 1997 1998 1999 2000 ... 2013 2014 2015 2016 2017\n",
      "  * depth    (depth) int64 5 15 25 35 45 55 65 ... 2655 2665 2675 2685 2695 2705\n",
      "Data variables:\n",
      "    U        (refdist, year, depth) float64 nan nan nan nan ... nan nan nan nan\n",
      "    V        (refdist, year, depth) float64 nan nan nan nan ... nan nan nan nan\n"
     ]
    }
   ],
   "source": [
    "da0 = df3D.to_xarray()\n",
    "print(da0)"
   ]
  },
  {
   "cell_type": "markdown",
   "metadata": {},
   "source": [
    "<br><br>\n",
    "### 1.3 Add additional Variables from metadatafile (Lat,Lon, Station Name, Cruise ID)"
   ]
  },
  {
   "cell_type": "code",
   "execution_count": 21,
   "metadata": {},
   "outputs": [
    {
     "name": "stdout",
     "output_type": "stream",
     "text": [
      "<xarray.Dataset>\n",
      "Dimensions:   (refdist: 69)\n",
      "Coordinates:\n",
      "  * refdist   (refdist) int64 0 13 25 55 84 122 ... 1277 1286 1292 1298 1307\n",
      "Data variables:\n",
      "    Staname   (refdist) object 'IB23S' 'IB22S' 'IB21S' ... '3G' '2G' '1G'\n",
      "    LonSta    (refdist) float64 -20.21 -20.07 -19.92 ... -6.367 -6.283 -6.133\n",
      "    LatSta    (refdist) float64 63.32 63.22 63.13 62.92 ... 56.71 56.68 56.67\n",
      "    DepthSta  (refdist) int64 120 670 1030 1400 1670 1790 ... 80 115 70 30 190\n"
     ]
    }
   ],
   "source": [
    "# Get position metadata\n",
    "pathdir = '../data/raw/csv_ctdgrid'\n",
    "dfloc = pd.read_csv(pathdir+'/'+'EELCTDandLADCP_refpos.csv',sep=',', index_col=None, \n",
    "                     header=0)\n",
    "# Make sure the station name are sorted by their distance along the section\n",
    "sdfloc = dfloc.rename(columns={\"Refdist\": \"refdist\"}).sort_values('refdist', ascending=True)\n",
    "sdfloc['refdist']=sdfloc['refdist'].apply(int)\n",
    "sdfloc=sdfloc.set_index('refdist')\n",
    "\n",
    "daloc = sdfloc.to_xarray()\n",
    "print(daloc)"
   ]
  },
  {
   "cell_type": "code",
   "execution_count": 22,
   "metadata": {},
   "outputs": [
    {
     "name": "stdout",
     "output_type": "stream",
     "text": [
      "<xarray.Dataset>\n",
      "Dimensions:   (year: 17)\n",
      "Coordinates:\n",
      "  * year      (year) int64 1996 1997 1998 1999 2000 ... 2013 2014 2015 2016 2017\n",
      "Data variables:\n",
      "    CruiseID  (year) object 'd22396' 'd23097' 'd23398' ... 'dy052' 'dy078'\n",
      "    Month     (year) int64 10 9 5 9 2 12 10 10 8 6 5 5 5 7 6 6 5\n"
     ]
    }
   ],
   "source": [
    "# Get cruise (time) metadata\n",
    "dfdate = pd.read_csv(pathdir+'/'+'EELCTDandLADCP_refdate.csv',sep=',', index_col=None, \n",
    "                     header=0).rename(columns={\"Year\": \"year\"}).set_index('year')\n",
    "dadate = dfdate.to_xarray()\n",
    "print(dadate)"
   ]
  },
  {
   "cell_type": "markdown",
   "metadata": {},
   "source": [
    "<br><br>\n",
    "#### Merge metadata into main Dataset "
   ]
  },
  {
   "cell_type": "code",
   "execution_count": 23,
   "metadata": {},
   "outputs": [
    {
     "name": "stdout",
     "output_type": "stream",
     "text": [
      "<xarray.Dataset>\n",
      "Dimensions:   (depth: 271, refdist: 69, year: 17)\n",
      "Coordinates:\n",
      "  * refdist   (refdist) int64 0 13 25 55 84 122 ... 1277 1286 1292 1298 1307\n",
      "  * year      (year) int64 1996 1997 1998 1999 2000 ... 2013 2014 2015 2016 2017\n",
      "  * depth     (depth) int64 5 15 25 35 45 55 ... 2655 2665 2675 2685 2695 2705\n",
      "Data variables:\n",
      "    U         (refdist, year, depth) float64 nan nan nan nan ... nan nan nan nan\n",
      "    V         (refdist, year, depth) float64 nan nan nan nan ... nan nan nan nan\n",
      "    Staname   (refdist) object 'IB23S' 'IB22S' 'IB21S' ... '3G' '2G' '1G'\n",
      "    LonSta    (refdist) float64 -20.21 -20.07 -19.92 ... -6.367 -6.283 -6.133\n",
      "    LatSta    (refdist) float64 63.32 63.22 63.13 62.92 ... 56.71 56.68 56.67\n",
      "    DepthSta  (refdist) int64 120 670 1030 1400 1670 1790 ... 80 115 70 30 190\n",
      "    CruiseID  (year) object 'd22396' 'd23097' 'd23398' ... 'dy052' 'dy078'\n",
      "    Month     (year) int64 10 9 5 9 2 12 10 10 8 6 5 5 5 7 6 6 5\n"
     ]
    }
   ],
   "source": [
    "da=xr.merge([da0, daloc,dadate])\n",
    "print(da)"
   ]
  },
  {
   "cell_type": "markdown",
   "metadata": {},
   "source": [
    "\\\n",
    "Move variables into coordinates"
   ]
  },
  {
   "cell_type": "code",
   "execution_count": 24,
   "metadata": {},
   "outputs": [
    {
     "name": "stdout",
     "output_type": "stream",
     "text": [
      "<xarray.Dataset>\n",
      "Dimensions:   (depth: 271, refdist: 69, year: 17)\n",
      "Coordinates:\n",
      "  * refdist   (refdist) int64 0 13 25 55 84 122 ... 1277 1286 1292 1298 1307\n",
      "  * year      (year) int64 1996 1997 1998 1999 2000 ... 2013 2014 2015 2016 2017\n",
      "  * depth     (depth) int64 5 15 25 35 45 55 ... 2655 2665 2675 2685 2695 2705\n",
      "    Staname   (refdist) object 'IB23S' 'IB22S' 'IB21S' ... '3G' '2G' '1G'\n",
      "    lon       (refdist) float64 -20.21 -20.07 -19.92 ... -6.367 -6.283 -6.133\n",
      "    lat       (refdist) float64 63.32 63.22 63.13 62.92 ... 56.71 56.68 56.67\n",
      "Data variables:\n",
      "    U         (refdist, year, depth) float64 nan nan nan nan ... nan nan nan nan\n",
      "    V         (refdist, year, depth) float64 nan nan nan nan ... nan nan nan nan\n",
      "    DepthSta  (refdist) int64 120 670 1030 1400 1670 1790 ... 80 115 70 30 190\n",
      "    CruiseID  (year) object 'd22396' 'd23097' 'd23398' ... 'dy052' 'dy078'\n",
      "    Month     (year) int64 10 9 5 9 2 12 10 10 8 6 5 5 5 7 6 6 5\n"
     ]
    }
   ],
   "source": [
    "da.coords['lon'] = ('refdist', da.LonSta)\n",
    "da.coords['lat'] = ('refdist', da.LatSta)\n",
    "da.coords['Staname'] = ('refdist', da.Staname)\n",
    "da = da.drop(['LonSta','LatSta'])\n",
    "print(da)"
   ]
  },
  {
   "cell_type": "markdown",
   "metadata": {},
   "source": [
    "<br><br>\n",
    "### 1.4 Visual inspection of the data"
   ]
  },
  {
   "cell_type": "code",
   "execution_count": 25,
   "metadata": {},
   "outputs": [
    {
     "data": {
      "text/plain": [
       "[<matplotlib.lines.Line2D at 0x7fe6917bcca0>]"
      ]
     },
     "execution_count": 25,
     "metadata": {},
     "output_type": "execute_result"
    },
    {
     "data": {
      "image/png": "[encoded data removed]",
      "text/plain": [
       "<Figure size 432x288 with 1 Axes>"
      ]
     },
     "metadata": {
      "needs_background": "light"
     },
     "output_type": "display_data"
    }
   ],
   "source": [
    "da.V[2,-2,:].plot(y='depth', yincrease=False)\n"
   ]
  },
  {
   "cell_type": "code",
   "execution_count": 26,
   "metadata": {},
   "outputs": [
    {
     "data": {
      "text/plain": [
       "<matplotlib.collections.QuadMesh at 0x7fe6c12794f0>"
      ]
     },
     "execution_count": 26,
     "metadata": {},
     "output_type": "execute_result"
    },
    {
     "data": {
      "image/png": "[encoded data removed]",
      "text/plain": [
       "<Figure size 432x288 with 2 Axes>"
      ]
     },
     "metadata": {
      "needs_background": "light"
     },
     "output_type": "display_data"
    }
   ],
   "source": [
    "da.V.sel(year=2017).plot(y='depth', yincrease=False)"
   ]
  },
  {
   "cell_type": "markdown",
   "metadata": {},
   "source": [
    "\\\n",
    "Plot evolution of Velocity profile at station E"
   ]
  },
  {
   "cell_type": "code",
   "execution_count": 27,
   "metadata": {},
   "outputs": [
    {
     "data": {
      "text/plain": [
       "<matplotlib.collections.QuadMesh at 0x7fe69315bee0>"
      ]
     },
     "execution_count": 27,
     "metadata": {},
     "output_type": "execute_result"
    },
    {
     "data": {
      "image/png": "[encoded data removed]",
      "text/plain": [
       "<Figure size 432x288 with 2 Axes>"
      ]
     },
     "metadata": {
      "needs_background": "light"
     },
     "output_type": "display_data"
    }
   ],
   "source": [
    "# Extra Refdist value associated with Station E\n",
    "staE = da.refdist.values[da.Staname.values=='E'][0]\n",
    "\n",
    "# Plot \n",
    "da.V.sel(refdist=staE,year=slice('2004','2017')).plot(y='depth', yincrease=False)"
   ]
  },
  {
   "cell_type": "markdown",
   "metadata": {},
   "source": [
    "<br><br>\n",
    "## 2. Plot Variance ellipse of Depth Average Current\n",
    "### 2.1 Test for a specific station"
   ]
  },
  {
   "cell_type": "code",
   "execution_count": 28,
   "metadata": {},
   "outputs": [
    {
     "name": "stderr",
     "output_type": "stream",
     "text": [
      "/Users/locupe/anaconda2/envs/analysis_eel_data/lib/python3.8/site-packages/xarray/core/nanops.py:142: RuntimeWarning: Mean of empty slice\n",
      "  return np.nanmean(a, axis=axis, dtype=dtype)\n"
     ]
    },
    {
     "data": {
      "image/png": "[encoded data removed]",
      "text/plain": [
       "<Figure size 432x288 with 1 Axes>"
      ]
     },
     "metadata": {
      "needs_background": "light"
     },
     "output_type": "display_data"
    }
   ],
   "source": [
    "daMean=da.mean(dim='depth')\n",
    "sc = daMean.sel(refdist=staE).plot.scatter(x='U',y='V')"
   ]
  },
  {
   "cell_type": "markdown",
   "metadata": {},
   "source": [
    "\\\n",
    "Define the confidence_ellipse function (more info [here](https://matplotlib.org/3.2.1/gallery/statistics/confidence_ellipse.html#sphx-glr-gallery-statistics-confidence-ellipse-py) )"
   ]
  },
  {
   "cell_type": "code",
   "execution_count": 29,
   "metadata": {},
   "outputs": [],
   "source": [
    "def confidence_ellipse(x, y, ax, n_std=3.0, facecolor='none', **kwargs):\n",
    "    \"\"\"\n",
    "    Create a plot of the covariance confidence ellipse of *x* and *y*.\n",
    "\n",
    "    Parameters\n",
    "    ----------\n",
    "    x, y : array-like, shape (n, )\n",
    "        Input data.\n",
    "\n",
    "    ax : matplotlib.axes.Axes\n",
    "        The axes object to draw the ellipse into.\n",
    "\n",
    "    n_std : float\n",
    "        The number of standard deviations to determine the ellipse's radiuses.\n",
    "\n",
    "    Returns\n",
    "    -------\n",
    "    matplotlib.patches.Ellipse\n",
    "\n",
    "    Other parameters\n",
    "    ----------------\n",
    "    kwargs : `~matplotlib.patches.Patch` properties\n",
    "    \"\"\"\n",
    "    if x.size != y.size:\n",
    "        raise ValueError(\"x and y must be the same size\")\n",
    "\n",
    "    cov = np.cov(x, y)\n",
    "    pearson = cov[0, 1]/np.sqrt(cov[0, 0] * cov[1, 1])\n",
    "    # Using a special case to obtain the eigenvalues of this\n",
    "    # two-dimensionl dataset.\n",
    "    ell_radius_x = np.sqrt(1 + pearson)\n",
    "    ell_radius_y = np.sqrt(1 - pearson)\n",
    "    ellipse = Ellipse((0, 0),\n",
    "        width=ell_radius_x * 2,\n",
    "        height=ell_radius_y * 2,\n",
    "        facecolor=facecolor,\n",
    "        **kwargs)\n",
    "\n",
    "    # Calculating the stdandard deviation of x from\n",
    "    # the squareroot of the variance and multiplying\n",
    "    # with the given number of standard deviations.\n",
    "    scale_x = np.sqrt(cov[0, 0]) * n_std\n",
    "    mean_x = np.mean(x)\n",
    "\n",
    "    # calculating the stdandard deviation of y ...\n",
    "    scale_y = np.sqrt(cov[1, 1]) * n_std\n",
    "    mean_y = np.mean(y)\n",
    "\n",
    "    transf = transforms.Affine2D() \\\n",
    "        .rotate_deg(45) \\\n",
    "        .scale(scale_x, scale_y) \\\n",
    "        .translate(mean_x, mean_y)\n",
    "\n",
    "    ellipse.set_transform(transf + ax.transData)\n",
    "    return ax.add_patch(ellipse)"
   ]
  },
  {
   "cell_type": "code",
   "execution_count": 30,
   "metadata": {},
   "outputs": [
    {
     "data": {
      "image/png": "[encoded data removed]",
      "text/plain": [
       "<Figure size 576x576 with 1 Axes>"
      ]
     },
     "metadata": {
      "needs_background": "light"
     },
     "output_type": "display_data"
    }
   ],
   "source": [
    "x = daMean.sel(refdist=staE).dropna('year').U.values\n",
    "y = daMean.sel(refdist=staE).dropna('year').V.values\n",
    "\n",
    "\n",
    "fig, ax = plt.subplots(figsize=(8, 8))\n",
    "plt.scatter(x,y,color='blue')\n",
    "\n",
    "Qv = ax.quiver(0, 0, np.mean(x),  np.mean(y),\n",
    "              angles='xy', scale_units='xy', scale=1,\n",
    "              color='black')\n",
    "plt.plot( np.mean(x), np.mean(y),'+',color='w')\n",
    "confidence_ellipse(x, y, ax, n_std=1.0, edgecolor='salmon')\n",
    "\n",
    "ax.set_aspect('equal', 'box')\n",
    "\n"
   ]
  },
  {
   "cell_type": "code",
   "execution_count": 31,
   "metadata": {},
   "outputs": [
    {
     "data": {
      "text/plain": [
       "-0.08364704878912728"
      ]
     },
     "execution_count": 31,
     "metadata": {},
     "output_type": "execute_result"
    }
   ],
   "source": [
    "np.mean(x)\n",
    "np.mean(y)"
   ]
  },
  {
   "cell_type": "markdown",
   "metadata": {},
   "source": [
    "<br><br>\n",
    "#### TODO: plot distribution of depth average velocity at a specific station and compute the associated ellipse\n",
    "Have a look to:\n",
    "1. J. Lilly notes on variance ellipse http://jmlilly.net/course/v3/VarianceEllipsesDemo.html\n",
    "2. Confidence ellipse function https://matplotlib.org/3.2.1/gallery/statistics/confidence_ellipse.html#sphx-glr-gallery-statistics-confidence-ellipse-py\n",
    "3. How to draw patch using cartopy https://scitools.org.uk/cartopy/docs/v0.5/matplotlib/introductory_examples/02.polygon.html\n"
   ]
  },
  {
   "cell_type": "code",
   "execution_count": null,
   "metadata": {},
   "outputs": [],
   "source": []
  },
  {
   "cell_type": "code",
   "execution_count": null,
   "metadata": {},
   "outputs": [],
   "source": []
  }
 ],
 "metadata": {
  "kernelspec": {
   "display_name": "Python [conda env:analysis_eel_data] *",
   "language": "python",
   "name": "conda-env-analysis_eel_data-py"
  },
  "language_info": {
   "codemirror_mode": {
    "name": "ipython",
    "version": 3
   },
   "file_extension": ".py",
   "mimetype": "text/x-python",
   "name": "python",
   "nbconvert_exporter": "python",
   "pygments_lexer": "ipython3",
   "version": "3.8.2"
  }
 },
 "nbformat": 4,
 "nbformat_minor": 4
}
